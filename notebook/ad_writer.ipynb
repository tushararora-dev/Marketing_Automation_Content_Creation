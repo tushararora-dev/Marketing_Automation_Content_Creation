{
 "cells": [
  {
   "cell_type": "code",
   "execution_count": 2,
   "id": "32f58da3",
   "metadata": {},
   "outputs": [
    {
     "name": "stdout",
     "output_type": "stream",
     "text": [
      "✓ Successfully imported ad_writer functions\n"
     ]
    }
   ],
   "source": [
    "# Cell 1: Setup and imports\n",
    "import sys\n",
    "import os\n",
    "from typing import Dict, Any, List\n",
    "\n",
    "# Add the parent directory to sys.path if needed\n",
    "sys.path.append(os.path.abspath(\"..\"))\n",
    "\n",
    "# Import the ad_writer functions directly\n",
    "from workflows.content_generation.ad_writer import (\n",
    "    generate_ad_copy,\n",
    "    generate_single_ad_copy,\n",
    "    generate_social_captions,\n",
    "    generate_instagram_captions,\n",
    "    generate_tiktok_captions,\n",
    "    generate_linkedin_captions,\n",
    "    parse_ad_copy_response,\n",
    "    parse_social_captions,\n",
    "    extract_headline,\n",
    "    extract_primary_text,\n",
    "    extract_cta,\n",
    "    extract_description,\n",
    "    create_platform_adaptations,\n",
    "    optimize_for_twitter,\n",
    "    create_twitter_thread,\n",
    "    generate_hashtags\n",
    ")\n",
    "\n",
    "print(\"✓ Successfully imported ad_writer functions\")\n"
   ]
  },
  {
   "cell_type": "code",
   "execution_count": 3,
   "id": "2b7cc4ec",
   "metadata": {},
   "outputs": [
    {
     "name": "stdout",
     "output_type": "stream",
     "text": [
      "Test data initialized:\n",
      "Product: Premium organic skincare serum with natural ingredients that helps improve skin ...\n",
      "Target Audience: Busy professionals aged 25-45\n",
      "Brand Tone: Professional yet approachable\n"
     ]
    }
   ],
   "source": [
    "# Cell 2: Set up test data\n",
    "test_content_strategy = {\n",
    "    \"product_description\": \"Premium organic skincare serum with natural ingredients that helps improve skin texture and reduce signs of aging. Perfect for busy professionals who want quality skincare.\",\n",
    "    \"target_audience\": \"Busy professionals aged 25-45 who value quality and natural products\",\n",
    "    \"content_types\": [\"ad_copy\", \"social_captions\"],\n",
    "    \"brand_tone\": \"Professional yet approachable\",\n",
    "    \"brand_colors\": \"#2c3e50, #3498db, #f8f9fa\",\n",
    "    \"content_pillars\": [\"quality\", \"benefits\", \"lifestyle\"],\n",
    "    \"key_messages\": [\"Premium quality you can trust\", \"Supports your health and wellness goals\"]\n",
    "}\n",
    "\n",
    "test_target_audience = \"Busy professionals aged 25-45\"\n",
    "test_brand_tone = \"Professional yet approachable\"\n",
    "\n",
    "print(\"Test data initialized:\")\n",
    "print(f\"Product: {test_content_strategy['product_description'][:80]}...\")\n",
    "print(f\"Target Audience: {test_target_audience}\")\n",
    "print(f\"Brand Tone: {test_brand_tone}\")"
   ]
  },
  {
   "cell_type": "code",
   "execution_count": 4,
   "id": "97521aca",
   "metadata": {},
   "outputs": [
    {
     "name": "stdout",
     "output_type": "stream",
     "text": [
      "==================================================\n",
      "TESTING TEXT EXTRACTION FUNCTIONS\n",
      "==================================================\n",
      "\n",
      "Sample ad text:\n",
      "\n",
      "Headline: Transform Your Business with AI-Powered Solutions\n",
      "Primary Text: Discover cutting-edge technology that streamlines your workflow and boosts productivity by 40%. Join thousands of satisfied customers who've revolutionized their operations.\n",
      "CTA: Start Your Free Trial\n",
      "Description: AI-powered business solutions for modern professionals\n",
      "\n",
      "\n",
      "--- Testing extract_headline ---\n",
      "Extracted headline: 'Transform Your Business with AI-Powered Solutions'\n",
      "\n",
      "--- Testing extract_primary_text ---\n",
      "Extracted primary text: 'Primary Text: Discover cutting-edge technology that streamlines your workflow and boosts productivity by 40%. Join thousands of satisfied customers who've revolutionized their operations. Description: AI-powered business solutions for modern professionals'\n",
      "\n",
      "--- Testing extract_cta ---\n",
      "Extracted CTA: 'Start Your Free Trial'\n",
      "\n",
      "--- Testing extract_description ---\n",
      "Extracted description: 'AI-powered business solutions for modern professionals'\n"
     ]
    }
   ],
   "source": [
    "# Cell 3: Test text extraction functions\n",
    "print(\"=\" * 50)\n",
    "print(\"TESTING TEXT EXTRACTION FUNCTIONS\")\n",
    "print(\"=\" * 50)\n",
    "\n",
    "# Test sample ad text\n",
    "sample_ad_text = \"\"\"\n",
    "Headline: Transform Your Business with AI-Powered Solutions\n",
    "Primary Text: Discover cutting-edge technology that streamlines your workflow and boosts productivity by 40%. Join thousands of satisfied customers who've revolutionized their operations.\n",
    "CTA: Start Your Free Trial\n",
    "Description: AI-powered business solutions for modern professionals\n",
    "\"\"\"\n",
    "\n",
    "print(\"\\nSample ad text:\")\n",
    "print(sample_ad_text)\n",
    "\n",
    "print(\"\\n--- Testing extract_headline ---\")\n",
    "headline_result = extract_headline(sample_ad_text)\n",
    "print(f\"Extracted headline: '{headline_result}'\")\n",
    "\n",
    "print(\"\\n--- Testing extract_primary_text ---\")\n",
    "primary_text_result = extract_primary_text(sample_ad_text)\n",
    "print(f\"Extracted primary text: '{primary_text_result}'\")\n",
    "\n",
    "print(\"\\n--- Testing extract_cta ---\")\n",
    "cta_result = extract_cta(sample_ad_text)\n",
    "print(f\"Extracted CTA: '{cta_result}'\")\n",
    "\n",
    "print(\"\\n--- Testing extract_description ---\")\n",
    "description_result = extract_description(sample_ad_text)\n",
    "print(f\"Extracted description: '{description_result}'\")"
   ]
  },
  {
   "cell_type": "code",
   "execution_count": 5,
   "id": "77a9c927",
   "metadata": {},
   "outputs": [
    {
     "name": "stdout",
     "output_type": "stream",
     "text": [
      "\n",
      "==================================================\n",
      "TESTING PARSE_AD_COPY_RESPONSE\n",
      "==================================================\n",
      "Parsed ad copy structure:\n",
      "  variant: 1\n",
      "  headline: Transform Your Business with AI-Powered Solutions\n",
      "  primary_text: Primary Text: Discover cutting-edge technology that streamlines your workflow and boosts productivity by 40%. Join thousands of satisfied customers who've revolutionized their operations. Description: AI-powered business solutions for modern professionals\n",
      "  cta: Start Your Free Trial\n",
      "  description: AI-powered business solutions for modern professionals\n",
      "  platform_adaptations: ['facebook', 'google_ads', 'instagram', 'linkedin', 'twitter']\n",
      "  character_counts: ['facebook_headline', 'facebook_primary', 'google_headline', 'twitter']\n",
      "\n",
      "Character counts details:\n",
      "  facebook_headline: 49 characters\n",
      "  facebook_primary: 255 characters\n",
      "  google_headline: 30 characters\n",
      "  twitter: 305 characters\n"
     ]
    }
   ],
   "source": [
    "# Cell 4: Test ad copy parsing\n",
    "print(\"\\n\" + \"=\" * 50)\n",
    "print(\"TESTING PARSE_AD_COPY_RESPONSE\")\n",
    "print(\"=\" * 50)\n",
    "\n",
    "parsed_ad = parse_ad_copy_response(sample_ad_text, 1)\n",
    "\n",
    "print(\"Parsed ad copy structure:\")\n",
    "for key, value in parsed_ad.items():\n",
    "    if key != \"full_response\":  # Skip the long full response\n",
    "        if isinstance(value, dict):\n",
    "            print(f\"  {key}: {list(value.keys()) if value else 'Empty dict'}\")\n",
    "        else:\n",
    "            print(f\"  {key}: {value}\")\n",
    "\n",
    "print(f\"\\nCharacter counts details:\")\n",
    "for platform, count in parsed_ad['character_counts'].items():\n",
    "    print(f\"  {platform}: {count} characters\")"
   ]
  },
  {
   "cell_type": "code",
   "execution_count": 6,
   "id": "c7bcc448",
   "metadata": {},
   "outputs": [
    {
     "name": "stdout",
     "output_type": "stream",
     "text": [
      "\n",
      "==================================================\n",
      "TESTING CREATE_PLATFORM_ADAPTATIONS\n",
      "==================================================\n",
      "Platform adaptations:\n",
      "\n",
      "--- FACEBOOK ---\n",
      "  headline: Transform Your Business with AI-Powered \n",
      "  primary_text: Primary Text: Discover cutting-edge technology that streamlines your workflow and boosts productivity by 40%. Join thousands \n",
      "  cta: Start Your Free Trial\n",
      "  link_description: of satisfied customers who've \n",
      "\n",
      "--- GOOGLE_ADS ---\n",
      "  headline_1: Transform Your Business with A\n",
      "  headline_2: Trusted Solution\n",
      "  description_1: Primary Text: Discover cutting-edge technology that streamlines your workflow and boosts p\n",
      "  description_2: Trusted by professionals. Start your journey now.\n",
      "  final_url: [LANDING_PAGE_URL]\n",
      "\n",
      "--- INSTAGRAM ---\n",
      "  caption: Transform Your Business with AI-Powered Solutions\n",
      "\n",
      "Primary Text: Discover cutting-edge technology that streamlines your workflow and boosts productivity by 40%. Join thousands of satisfied customers who've revolutionized their operations. Description: AI-powered business solutions for modern professionals\n",
      "\n",
      "#primary #text #discover #cuttingedge #technology #that #streamlines #your\n",
      "  cta: Start Your Free Trial\n",
      "\n",
      "--- LINKEDIN ---\n",
      "  headline: Transform Your Business with AI-Powered Solutions\n",
      "  intro_text: Primary Text: Discover cutting-edge technology that streamlines your workflow and boosts productivity by 40%. Join thousands of satisfied customers wh\n",
      "  cta: Start Your Free Trial\n",
      "\n",
      "--- TWITTER ---\n",
      "  tweet: Transform Your Business with AI-Powered Solutions Primary Text: Discover cutting-edge technology that streamlines your workflow and boosts productivit... Start Your Free Trial\n",
      "  thread: 4 items\n",
      "    1. Transform Your Business with AI-Powered Solutions 🧵\n",
      "    2. Primary Text: Discover cutting-edge technology that streamlines your workflow and boosts productivity by 40%.\n"
     ]
    }
   ],
   "source": [
    "# Cell 5: Test platform adaptations\n",
    "print(\"\\n\" + \"=\" * 50)\n",
    "print(\"TESTING CREATE_PLATFORM_ADAPTATIONS\")\n",
    "print(\"=\" * 50)\n",
    "\n",
    "platform_adaptations = create_platform_adaptations(sample_ad_text)\n",
    "\n",
    "print(\"Platform adaptations:\")\n",
    "for platform, adaptation in platform_adaptations.items():\n",
    "    print(f\"\\n--- {platform.upper()} ---\")\n",
    "    for key, value in adaptation.items():\n",
    "        if isinstance(value, list):\n",
    "            print(f\"  {key}: {len(value)} items\")\n",
    "            for i, item in enumerate(value[:2], 1):  # Show first 2 items\n",
    "                print(f\"    {i}. {item}\")\n",
    "        else:\n",
    "            print(f\"  {key}: {value}\")\n"
   ]
  },
  {
   "cell_type": "code",
   "execution_count": 7,
   "id": "b2a8e11a",
   "metadata": {},
   "outputs": [
    {
     "name": "stdout",
     "output_type": "stream",
     "text": [
      "\n",
      "==================================================\n",
      "TESTING AD COPY PARSING\n",
      "==================================================\n",
      "Parsed ad copy structure:\n",
      "  variant: 1\n",
      "  headline: Transform Your Business with AI-Powered Solutions\n",
      "  primary_text: Primary Text: Discover cutting-edge technology that streamlines your workflow and boosts productivity by 40%. Join thousands of satisfied customers who've revolutionized their operations. Description: AI-powered business solutions for modern professionals\n",
      "  cta: Start Your Free Trial\n",
      "  description: AI-powered business solutions for modern professionals\n",
      "  platform_adaptations: {'facebook': {'headline': 'Transform Your Business with AI-Powered ', 'primary_text': 'Primary Text: Discover cutting-edge technology that streamlines your workflow and boosts productivity by 40%. Join thousands ', 'cta': 'Start Your Free Trial', 'link_description': \"of satisfied customers who've \"}, 'google_ads': {'headline_1': 'Transform Your Business with A', 'headline_2': 'Trusted Solution', 'description_1': 'Primary Text: Discover cutting-edge technology that streamlines your workflow and boosts p', 'description_2': 'Trusted by professionals. Start your journey now.', 'final_url': '[LANDING_PAGE_URL]'}, 'instagram': {'caption': \"Transform Your Business with AI-Powered Solutions\\n\\nPrimary Text: Discover cutting-edge technology that streamlines your workflow and boosts productivity by 40%. Join thousands of satisfied customers who've revolutionized their operations. Description: AI-powered business solutions for modern professionals\\n\\n#primary #text #discover #cuttingedge #technology #that #streamlines #your\", 'cta': 'Start Your Free Trial'}, 'linkedin': {'headline': 'Transform Your Business with AI-Powered Solutions', 'intro_text': 'Primary Text: Discover cutting-edge technology that streamlines your workflow and boosts productivity by 40%. Join thousands of satisfied customers wh', 'cta': 'Start Your Free Trial'}, 'twitter': {'tweet': 'Transform Your Business with AI-Powered Solutions Primary Text: Discover cutting-edge technology that streamlines your workflow and boosts productivit... Start Your Free Trial', 'thread': ['Transform Your Business with AI-Powered Solutions 🧵', 'Primary Text: Discover cutting-edge technology that streamlines your workflow and boosts productivity by 40%.', \"Join thousands of satisfied customers who've revolutionized their operations.\", 'Start Your Free Trial 👇']}}\n",
      "  character_counts: {'facebook_headline': 49, 'facebook_primary': 255, 'google_headline': 30, 'twitter': 305}\n",
      "\n",
      "Character counts: {'facebook_headline': 49, 'facebook_primary': 255, 'google_headline': 30, 'twitter': 305}\n"
     ]
    }
   ],
   "source": [
    "# Cell 6: Test ad copy parsing\n",
    "print(\"\\n\" + \"=\" * 50)\n",
    "print(\"TESTING AD COPY PARSING\")\n",
    "print(\"=\" * 50)\n",
    "\n",
    "parsed_ad = parse_ad_copy_response(sample_ad_text, 1)\n",
    "\n",
    "print(\"Parsed ad copy structure:\")\n",
    "for key, value in parsed_ad.items():\n",
    "    if key != \"full_response\":  # Skip the long full response\n",
    "        print(f\"  {key}: {value}\")\n",
    "\n",
    "print(f\"\\nCharacter counts: {parsed_ad['character_counts']}\")"
   ]
  },
  {
   "cell_type": "code",
   "execution_count": 8,
   "id": "fe9391fb",
   "metadata": {},
   "outputs": [
    {
     "name": "stdout",
     "output_type": "stream",
     "text": [
      "\n",
      "==================================================\n",
      "TESTING SINGLE AD COPY GENERATION\n",
      "==================================================\n",
      "Generated single ad copy:\n",
      "  Variant: 1\n",
      "  Headline: Unlock Radiant Skin for Busy You\n",
      "  Primary Text: This ad copy aims to resonate with busy professionals by addressing their pain points and speaking t...\n",
      "  CTA: Get Started Now\n",
      "  Character Counts: {'facebook_headline': 32, 'facebook_primary': 953, 'google_headline': 30, 'twitter': 986}\n"
     ]
    }
   ],
   "source": [
    "# Cell 7: Test single ad copy generation\n",
    "print(\"\\n\" + \"=\" * 50)\n",
    "print(\"TESTING SINGLE AD COPY GENERATION\")\n",
    "print(\"=\" * 50)\n",
    "\n",
    "try:\n",
    "    single_ad = generate_single_ad_copy(\n",
    "        content_strategy=test_content_strategy,\n",
    "        target_audience=test_target_audience,\n",
    "        brand_tone=test_brand_tone,\n",
    "        variant_number=1\n",
    "    )\n",
    "    \n",
    "    print(\"Generated single ad copy:\")\n",
    "    print(f\"  Variant: {single_ad['variant']}\")\n",
    "    print(f\"  Headline: {single_ad['headline']}\")\n",
    "    print(f\"  Primary Text: {single_ad['primary_text'][:100]}...\")\n",
    "    print(f\"  CTA: {single_ad['cta']}\")\n",
    "    print(f\"  Character Counts: {single_ad['character_counts']}\")\n",
    "    \n",
    "except Exception as e:\n",
    "    print(f\"Error generating single ad copy: {e}\")"
   ]
  },
  {
   "cell_type": "code",
   "execution_count": 9,
   "id": "9c7b684b",
   "metadata": {},
   "outputs": [
    {
     "name": "stdout",
     "output_type": "stream",
     "text": [
      "\n",
      "==================================================\n",
      "TESTING MULTIPLE AD COPY GENERATION\n",
      "==================================================\n",
      "Generated 3 ad copy variants:\n",
      "\n",
      "--- Variant 1 ---\n",
      "Headline: Unlock Radiant Skin for Busy Pro Leaders\n",
      "Primary Text: Here's a compelling ad copy for the premium organic skincare serum: \"Are you tir...\n",
      "CTA: Get Started Now\n",
      "Facebook headline length: 40\n",
      "Twitter length: 484\n",
      "\n",
      "--- Variant 2 ---\n",
      "Headline: Unlock Radiant Skin for Busy Professionals\n",
      "Primary Text: Call-to-Action: Try It Now & Get a Free Mini-Facial! Description: Experience the...\n",
      "CTA: Get Started Now\n",
      "Facebook headline length: 42\n",
      "Twitter length: 496\n",
      "\n",
      "--- Variant 3 ---\n",
      "Headline: Unlock Radiant Skin, On-the-Go!\n",
      "Primary Text: Here's a high-converting ad copy for the premium organic skincare serum: These a...\n",
      "CTA: Get Started Now!\n",
      "Facebook headline length: 31\n",
      "Twitter length: 355\n"
     ]
    }
   ],
   "source": [
    "# Cell 8: Test multiple ad copy generation\n",
    "print(\"\\n\" + \"=\" * 50)\n",
    "print(\"TESTING MULTIPLE AD COPY GENERATION\")\n",
    "print(\"=\" * 50)\n",
    "\n",
    "try:\n",
    "    ad_copies = generate_ad_copy(\n",
    "        content_strategy=test_content_strategy,\n",
    "        target_audience=test_target_audience,\n",
    "        brand_tone=test_brand_tone\n",
    "    )\n",
    "    \n",
    "    print(f\"Generated {len(ad_copies)} ad copy variants:\")\n",
    "    \n",
    "    for i, ad in enumerate(ad_copies, 1):\n",
    "        print(f\"\\n--- Variant {i} ---\")\n",
    "        print(f\"Headline: {ad['headline']}\")\n",
    "        print(f\"Primary Text: {ad['primary_text'][:80]}...\")\n",
    "        print(f\"CTA: {ad['cta']}\")\n",
    "        print(f\"Facebook headline length: {ad['character_counts']['facebook_headline']}\")\n",
    "        print(f\"Twitter length: {ad['character_counts']['twitter']}\")\n",
    "        \n",
    "except Exception as e:\n",
    "    print(f\"Error generating ad copies: {e}\")"
   ]
  },
  {
   "cell_type": "code",
   "execution_count": null,
   "id": "4b4d3725",
   "metadata": {},
   "outputs": [],
   "source": []
  }
 ],
 "metadata": {
  "kernelspec": {
   "display_name": "myenv",
   "language": "python",
   "name": "python3"
  },
  "language_info": {
   "codemirror_mode": {
    "name": "ipython",
    "version": 3
   },
   "file_extension": ".py",
   "mimetype": "text/x-python",
   "name": "python",
   "nbconvert_exporter": "python",
   "pygments_lexer": "ipython3",
   "version": "3.11.13"
  }
 },
 "nbformat": 4,
 "nbformat_minor": 5
}
