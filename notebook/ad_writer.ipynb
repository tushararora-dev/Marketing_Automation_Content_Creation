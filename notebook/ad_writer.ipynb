{
 "cells": [
  {
   "cell_type": "code",
   "execution_count": 1,
   "id": "cf9dc725",
   "metadata": {},
   "outputs": [],
   "source": [
    "def extract_headline(ad_text: str) -> str:\n",
    "    \"\"\"Extract headline from ad copy text\"\"\"\n",
    "    \n",
    "    lines = ad_text.split('\\n')\n",
    "    \n",
    "    # Look for headline indicators\n",
    "    for line in lines:\n",
    "        line_clean = line.strip()\n",
    "        if line_clean.lower().startswith('headline:'):\n",
    "            return line_clean.split(':', 1)[1].strip()\n",
    "        elif '**Headline:**' in line:\n",
    "            return line.split('**Headline:**')[1].split('**')[0].strip()\n",
    "        elif line_clean.lower().startswith('title:'):\n",
    "            return line_clean.split(':', 1)[1].strip()\n",
    "    \n",
    "    # Look for first line that could be a headline (short and punchy)\n",
    "    for line in lines[:5]:\n",
    "        line_clean = line.strip()\n",
    "        if line_clean and len(line_clean) < 100 and not line_clean.startswith('#'):\n",
    "            return line_clean\n",
    "    \n",
    "    return \"Transform Your Life Today!\""
   ]
  },
  {
   "cell_type": "code",
   "execution_count": 2,
   "id": "ceb51e5f",
   "metadata": {},
   "outputs": [
    {
     "name": "stdout",
     "output_type": "stream",
     "text": [
      "Unlock Your Potential\n"
     ]
    }
   ],
   "source": [
    "text1 = \"\"\"Headline: Unlock Your Potential\n",
    "Body: Join our new fitness program and transform your body.\n",
    "Call to Action: Sign up today!\"\"\"\n",
    "\n",
    "print(extract_headline(text1))\n",
    "# Output: Unlock Your Potential"
   ]
  },
  {
   "cell_type": "code",
   "execution_count": 3,
   "id": "30ba8d49",
   "metadata": {},
   "outputs": [
    {
     "name": "stdout",
     "output_type": "stream",
     "text": [
      "Achieve More in Less Time\n"
     ]
    }
   ],
   "source": [
    "text2 = \"\"\"**Headline:** Achieve More in Less Time**\n",
    "Body: Discover productivity secrets used by top entrepreneurs.\"\"\"\n",
    "\n",
    "print(extract_headline(text2))\n",
    "# Output: Achieve More in Less Time\n"
   ]
  },
  {
   "cell_type": "code",
   "execution_count": 4,
   "id": "643fcb7e",
   "metadata": {},
   "outputs": [
    {
     "name": "stdout",
     "output_type": "stream",
     "text": [
      "Experience the Future of Tech\n"
     ]
    }
   ],
   "source": [
    "text3 = \"\"\"Title: Experience the Future of Tech\n",
    "We build AI that builds your brand.\"\"\"\n",
    "\n",
    "print(extract_headline(text3))\n",
    "# Output: Experience the Future of Tech\n"
   ]
  },
  {
   "cell_type": "code",
   "execution_count": 5,
   "id": "1bef2625",
   "metadata": {},
   "outputs": [
    {
     "name": "stdout",
     "output_type": "stream",
     "text": [
      "Your Dream Home Awaits\n"
     ]
    }
   ],
   "source": [
    "text4 = \"\"\"Your Dream Home Awaits\n",
    "Find the best deals in your area.\n",
    "Contact us today.\"\"\"\n",
    "\n",
    "print(extract_headline(text4))\n",
    "# Output: Your Dream Home Awaits\n"
   ]
  },
  {
   "cell_type": "code",
   "execution_count": 6,
   "id": "1f4001f0",
   "metadata": {},
   "outputs": [
    {
     "name": "stdout",
     "output_type": "stream",
     "text": [
      "We provide various solutions.\n"
     ]
    }
   ],
   "source": [
    "text5 = \"\"\"\n",
    "# Welcome to Our Service\n",
    "We provide various solutions.\n",
    "Visit our site for more info.\"\"\"\n",
    "\n",
    "print(extract_headline(text5))\n",
    "# Output: Transform Your Life Today!\n"
   ]
  },
  {
   "cell_type": "code",
   "execution_count": 7,
   "id": "a8735d71",
   "metadata": {},
   "outputs": [],
   "source": [
    "def extract_primary_text(ad_text: str) -> str:\n",
    "    \"\"\"Extract primary text from ad copy\"\"\"\n",
    "    \n",
    "    lines = ad_text.split('\\n')\n",
    "    primary_lines = []\n",
    "    \n",
    "    # Look for primary text indicators\n",
    "    for i, line in enumerate(lines):\n",
    "        line_clean = line.strip()\n",
    "        if line_clean.lower().startswith('primary text:') or line_clean.lower().startswith('body:'):\n",
    "            # Collect subsequent lines as primary text\n",
    "            for j in range(i + 1, len(lines)):\n",
    "                next_line = lines[j].strip()\n",
    "                if next_line and not next_line.lower().startswith('cta:') and not next_line.lower().startswith('call to action:'):\n",
    "                    primary_lines.append(next_line)\n",
    "                elif next_line.lower().startswith('cta:') or next_line.lower().startswith('call to action:'):\n",
    "                    break\n",
    "            break\n",
    "    \n",
    "    if primary_lines:\n",
    "        return ' '.join(primary_lines)\n",
    "    \n",
    "    # Fallback: extract body content\n",
    "    body_lines = []\n",
    "    skip_patterns = ['headline:', 'title:', 'cta:', 'call to action:', '**', '#']\n",
    "    \n",
    "    for line in lines:\n",
    "        line_clean = line.strip()\n",
    "        if line_clean and not any(pattern in line_clean.lower() for pattern in skip_patterns):\n",
    "            body_lines.append(line_clean)\n",
    "    \n",
    "    if body_lines:\n",
    "        return ' '.join(body_lines[:3])  # Take first 3 lines as primary text\n",
    "    \n",
    "    return \"Discover the perfect solution for your needs. Don't miss out on this amazing opportunity.\""
   ]
  },
  {
   "cell_type": "code",
   "execution_count": 8,
   "id": "ae9a058e",
   "metadata": {},
   "outputs": [
    {
     "name": "stdout",
     "output_type": "stream",
     "text": [
      "Get 50% off on your next purchase. This deal is available for a limited time.\n"
     ]
    }
   ],
   "source": [
    "text1 = \"\"\"\n",
    "Headline: Amazing Deal\n",
    "Primary Text:\n",
    "Get 50% off on your next purchase.\n",
    "This deal is available for a limited time.\n",
    "Call to Action: Buy Now!\n",
    "\"\"\"\n",
    "\n",
    "print(extract_primary_text(text1))\n",
    "# Output: Get 50% off on your next purchase. This deal is available for a limited time."
   ]
  },
  {
   "cell_type": "code",
   "execution_count": 9,
   "id": "8d416fed",
   "metadata": {},
   "outputs": [
    {
     "name": "stdout",
     "output_type": "stream",
     "text": [
      "Our new drop is here. Don't miss the style upgrade. Order before stocks run out.\n"
     ]
    }
   ],
   "source": [
    "text2 = \"\"\"\n",
    "Title: Limited Edition Sneakers\n",
    "Body:\n",
    "Our new drop is here.\n",
    "Don't miss the style upgrade.\n",
    "Order before stocks run out.\n",
    "\"\"\"\n",
    "\n",
    "print(extract_primary_text(text2))\n",
    "# Output: Our new drop is here. Don't miss the style upgrade. Order before stocks run out."
   ]
  },
  {
   "cell_type": "code",
   "execution_count": 10,
   "id": "01ee5380",
   "metadata": {},
   "outputs": [
    {
     "name": "stdout",
     "output_type": "stream",
     "text": [
      "Be your best self. Join the movement. Let’s rewrite your future.\n"
     ]
    }
   ],
   "source": [
    "text3 = \"\"\"\n",
    "Be your best self.\n",
    "Join the movement.\n",
    "Let’s rewrite your future.\n",
    "\"\"\"\n",
    "\n",
    "print(extract_primary_text(text3))\n",
    "# Output: Be your best self. Join the movement. Let’s rewrite your future.\n"
   ]
  },
  {
   "cell_type": "code",
   "execution_count": 11,
   "id": "75a866f7",
   "metadata": {},
   "outputs": [
    {
     "name": "stdout",
     "output_type": "stream",
     "text": [
      "Discover the perfect solution for your needs. Don't miss out on this amazing opportunity.\n"
     ]
    }
   ],
   "source": [
    "text4 = \"\"\"\n",
    "# Welcome\n",
    "**Headline:** Something\n",
    "CTA: Click here\n",
    "\"\"\"\n",
    "\n",
    "print(extract_primary_text(text4))\n",
    "# Output: Discover the perfect solution for your needs. Don't miss out on this amazing opportunity.\n"
   ]
  },
  {
   "cell_type": "code",
   "execution_count": 12,
   "id": "b3c5e7b9",
   "metadata": {},
   "outputs": [],
   "source": [
    "def extract_cta(ad_text: str) -> str:\n",
    "    \"\"\"Extract call-to-action from ad copy\"\"\"\n",
    "    \n",
    "    lines = ad_text.split('\\n')\n",
    "    \n",
    "    # Look for CTA indicators\n",
    "    for line in lines:\n",
    "        line_clean = line.strip()\n",
    "        if line_clean.lower().startswith('cta:'):\n",
    "            return line_clean.split(':', 1)[1].strip()\n",
    "        elif '**CTA:**' in line:\n",
    "            return line.split('**CTA:**')[1].split('**')[0].strip()\n",
    "        elif line_clean.lower().startswith('call to action:'):\n",
    "            return line_clean.split(':', 1)[1].strip()\n",
    "    \n",
    "    # Look for button-like text\n",
    "    cta_patterns = [\n",
    "        \"shop now\", \"buy now\", \"get started\", \"learn more\", \"sign up\",\n",
    "        \"download now\", \"claim offer\", \"try free\", \"book now\", \"order today\"\n",
    "    ]\n",
    "    \n",
    "    for line in lines:\n",
    "        line_lower = line.lower()\n",
    "        for pattern in cta_patterns:\n",
    "            if pattern in line_lower:\n",
    "                return pattern.title()\n",
    "    \n",
    "    return \"Get Started Now\""
   ]
  },
  {
   "cell_type": "code",
   "execution_count": 13,
   "id": "35c7ceea",
   "metadata": {},
   "outputs": [
    {
     "name": "stdout",
     "output_type": "stream",
     "text": [
      "Buy now and save 50%!\n"
     ]
    }
   ],
   "source": [
    "text1 = \"\"\"Headline: Big Savings!\n",
    "Primary Text: Don't miss this limited-time offer.\n",
    "CTA: Buy now and save 50%!\n",
    "\"\"\"\n",
    "\n",
    "print(extract_cta(text1))\n",
    "# Output: Buy now and save 50%!"
   ]
  },
  {
   "cell_type": "code",
   "execution_count": 14,
   "id": "2baf3711",
   "metadata": {},
   "outputs": [
    {
     "name": "stdout",
     "output_type": "stream",
     "text": [
      "Try it free for 7 days\n"
     ]
    }
   ],
   "source": [
    "text2 = \"\"\"**CTA:** Try it free for 7 days**\"\"\"\n",
    "\n",
    "print(extract_cta(text2))\n",
    "# Output: Try it free for 7 days\n"
   ]
  },
  {
   "cell_type": "code",
   "execution_count": 15,
   "id": "9aca7f19",
   "metadata": {},
   "outputs": [
    {
     "name": "stdout",
     "output_type": "stream",
     "text": [
      "Learn More\n"
     ]
    }
   ],
   "source": [
    "text3 = \"\"\"Start your journey today.\n",
    "Learn more about our plans.\"\"\"\n",
    "\n",
    "print(extract_cta(text3))\n",
    "# Output: Learn More\n"
   ]
  },
  {
   "cell_type": "code",
   "execution_count": 16,
   "id": "eef4f417",
   "metadata": {},
   "outputs": [
    {
     "name": "stdout",
     "output_type": "stream",
     "text": [
      "Get Started Now\n"
     ]
    }
   ],
   "source": [
    "text4 = \"\"\"Welcome to our service.\n",
    "We help people grow.\n",
    "\"\"\"\n",
    "\n",
    "print(extract_cta(text4))\n",
    "# Output: Get Started Now\n"
   ]
  },
  {
   "cell_type": "code",
   "execution_count": 17,
   "id": "123a089f",
   "metadata": {},
   "outputs": [],
   "source": [
    "def extract_description(ad_text: str) -> str:\n",
    "    \"\"\"Extract description or supporting text\"\"\"\n",
    "    \n",
    "    lines = ad_text.split('\\n')\n",
    "    \n",
    "    # Look for description indicators\n",
    "    for line in lines:\n",
    "        line_clean = line.strip()\n",
    "        if line_clean.lower().startswith('description:'):\n",
    "            return line_clean.split(':', 1)[1].strip()\n",
    "        elif '**Description:**' in line:\n",
    "            return line.split('**Description:**')[1].split('**')[0].strip()\n",
    "    \n",
    "    # Use primary text as description if no separate description found\n",
    "    primary_text = extract_primary_text(ad_text)\n",
    "    return primary_text[:100] + \"...\" if len(primary_text) > 100 else primary_text"
   ]
  },
  {
   "cell_type": "code",
   "execution_count": 18,
   "id": "57057937",
   "metadata": {},
   "outputs": [
    {
     "name": "stdout",
     "output_type": "stream",
     "text": [
      "Our eco-friendly solutions help you live cleaner and greener.\n"
     ]
    }
   ],
   "source": [
    "text1 = \"\"\"\n",
    "Headline: Fresh Start\n",
    "Description: Our eco-friendly solutions help you live cleaner and greener.\n",
    "CTA: Learn more\n",
    "\"\"\"\n",
    "\n",
    "print(extract_description(text1))\n",
    "# Output: Our eco-friendly solutions help you live cleaner and greener.\n"
   ]
  },
  {
   "cell_type": "code",
   "execution_count": 19,
   "id": "ad87af34",
   "metadata": {},
   "outputs": [
    {
     "name": "stdout",
     "output_type": "stream",
     "text": [
      "Power your business with next-gen analytics\n"
     ]
    }
   ],
   "source": [
    "text2 = \"\"\"\n",
    "**Description:** Power your business with next-gen analytics**\n",
    "\"\"\"\n",
    "\n",
    "print(extract_description(text2))\n",
    "# Output: Power your business with next-gen analytics\n"
   ]
  },
  {
   "cell_type": "code",
   "execution_count": 20,
   "id": "b337e028",
   "metadata": {},
   "outputs": [
    {
     "name": "stdout",
     "output_type": "stream",
     "text": [
      "Introducing the most powerful console ever built. Designed for serious players.\n"
     ]
    }
   ],
   "source": [
    "text3 = \"\"\"\n",
    "Headline: Upgrade Your Game\n",
    "Body:\n",
    "Introducing the most powerful console ever built.\n",
    "Designed for serious players.\n",
    "CTA: Buy now\n",
    "\"\"\"\n",
    "\n",
    "print(extract_description(text3))\n",
    "# Output: Introducing the most powerful console ever built. Designed for serious players.\n"
   ]
  },
  {
   "cell_type": "code",
   "execution_count": 21,
   "id": "978bbfc8",
   "metadata": {},
   "outputs": [],
   "source": [
    "def create_second_headline(headline: str, primary_text: str) -> str:\n",
    "    \"\"\"Create a second headline for Google Ads\"\"\"\n",
    "    \n",
    "    # Extract key benefit or feature from primary text\n",
    "    words = primary_text.split()\n",
    "    key_phrases = []\n",
    "    \n",
    "    benefit_words = [\"save\", \"free\", \"fast\", \"easy\", \"best\", \"new\", \"proven\", \"guaranteed\"]\n",
    "    \n",
    "    for word in words:\n",
    "        if word.lower() in benefit_words:\n",
    "            key_phrases.append(word)\n",
    "    \n",
    "    if key_phrases:\n",
    "        return f\"{key_phrases[0].title()} & Reliable\"\n",
    "    \n",
    "    return \"Trusted Solution\""
   ]
  },
  {
   "cell_type": "code",
   "execution_count": 22,
   "id": "76c4081a",
   "metadata": {},
   "outputs": [
    {
     "name": "stdout",
     "output_type": "stream",
     "text": [
      "New & Reliable\n"
     ]
    }
   ],
   "source": [
    "headline = \"Boost Your Workflow\"\n",
    "primary_text = \"Try our new tool — it's fast, easy, and completely free to use.\"\n",
    "\n",
    "print(create_second_headline(headline, primary_text))\n",
    "# Output: Free & Reliable"
   ]
  },
  {
   "cell_type": "code",
   "execution_count": 23,
   "id": "7d07d006",
   "metadata": {},
   "outputs": [
    {
     "name": "stdout",
     "output_type": "stream",
     "text": [
      "Save & Reliable\n"
     ]
    }
   ],
   "source": [
    "primary_text = \"Save time and money with our automated platform.\"\n",
    "\n",
    "print(create_second_headline(\"Boost Efficiency\", primary_text))\n",
    "# Output: Save & Reliable"
   ]
  },
  {
   "cell_type": "code",
   "execution_count": 24,
   "id": "823c583d",
   "metadata": {},
   "outputs": [
    {
     "name": "stdout",
     "output_type": "stream",
     "text": [
      "Trusted Solution\n"
     ]
    }
   ],
   "source": [
    "primary_text = \"Our AI platform adapts to your business needs effortlessly.\"\n",
    "\n",
    "print(create_second_headline(\"Smart Business Tool\", primary_text))\n",
    "# Output: Trusted Solution\n"
   ]
  },
  {
   "cell_type": "code",
   "execution_count": 25,
   "id": "ca48bf0d",
   "metadata": {},
   "outputs": [],
   "source": [
    "def create_second_description(primary_text: str) -> str:\n",
    "    \"\"\"Create a second description for Google Ads\"\"\"\n",
    "    \n",
    "    # Create a complementary description\n",
    "    if \"save\" in primary_text.lower():\n",
    "        return \"Join thousands of satisfied customers. Limited time offer.\"\n",
    "    elif \"new\" in primary_text.lower():\n",
    "        return \"Latest technology. Try risk-free today.\"\n",
    "    else:\n",
    "        return \"Trusted by professionals. Start your journey now.\""
   ]
  },
  {
   "cell_type": "code",
   "execution_count": 26,
   "id": "cfabe760",
   "metadata": {},
   "outputs": [
    {
     "name": "stdout",
     "output_type": "stream",
     "text": [
      "Join thousands of satisfied customers. Limited time offer.\n"
     ]
    }
   ],
   "source": [
    "primary_text = \"Save time and money with our automation tool.\"\n",
    "print(create_second_description(primary_text))\n",
    "# Output: Join thousands of satisfied customers. Limited time offer.\n"
   ]
  },
  {
   "cell_type": "code",
   "execution_count": 27,
   "id": "97e01219",
   "metadata": {},
   "outputs": [
    {
     "name": "stdout",
     "output_type": "stream",
     "text": [
      "Latest technology. Try risk-free today.\n"
     ]
    }
   ],
   "source": [
    "primary_text = \"Discover our new AI-powered CRM system.\"\n",
    "print(create_second_description(primary_text))\n",
    "# Output: Latest technology. Try risk-free today.\n"
   ]
  },
  {
   "cell_type": "code",
   "execution_count": 28,
   "id": "c1cccd0f",
   "metadata": {},
   "outputs": [
    {
     "name": "stdout",
     "output_type": "stream",
     "text": [
      "Trusted by professionals. Start your journey now.\n"
     ]
    }
   ],
   "source": [
    "primary_text = \"Improve efficiency with tools used by top companies.\"\n",
    "print(create_second_description(primary_text))\n",
    "# Output: Trusted by professionals. Start your journey now.\n"
   ]
  },
  {
   "cell_type": "code",
   "execution_count": null,
   "id": "32f58da3",
   "metadata": {},
   "outputs": [],
   "source": []
  }
 ],
 "metadata": {
  "kernelspec": {
   "display_name": "myenv",
   "language": "python",
   "name": "python3"
  },
  "language_info": {
   "codemirror_mode": {
    "name": "ipython",
    "version": 3
   },
   "file_extension": ".py",
   "mimetype": "text/x-python",
   "name": "python",
   "nbconvert_exporter": "python",
   "pygments_lexer": "ipython3",
   "version": "3.11.13"
  }
 },
 "nbformat": 4,
 "nbformat_minor": 5
}
