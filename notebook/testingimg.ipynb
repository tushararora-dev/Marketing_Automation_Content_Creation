{
 "cells": [
  {
   "cell_type": "code",
   "execution_count": null,
   "id": "437a7aec",
   "metadata": {},
   "outputs": [
    {
     "name": "stdout",
     "output_type": "stream",
     "text": [
      "Image saved as sunset.png\n"
     ]
    }
   ],
   "source": [
    "import requests, os\n",
    "\n",
    "HF_TOKEN = os.getenv(\"HUGGINGFACE_API_KEY\")\n",
    "\n",
    "url = \"https://api-inference.huggingface.co/models/stabilityai/stable-diffusion-3-medium-diffusers\"\n",
    "headers = {\"Authorization\": f\"Bearer {HF_TOKEN}\"}\n",
    "\n",
    "payload = {\n",
    "    \"inputs\": \"A beautiful sunset\",\n",
    "    \"parameters\": {\n",
    "        \"width\": 1024,\n",
    "        \"height\": 1024,\n",
    "        \"num_inference_steps\": 20,\n",
    "        \"guidance_scale\": 7.5,\n",
    "        \"negative_prompt\": \"blurry, low quality, distorted, ugly, bad anatomy\"\n",
    "    }\n",
    "}\n",
    "\n",
    "res = requests.post(url, headers=headers, json=payload)\n",
    "\n",
    "if res.status_code == 200:\n",
    "    with open(\"sunset.png\", \"wb\") as f:\n",
    "        f.write(res.content)\n",
    "    print(\"Image saved as sunset.png\")\n",
    "else:\n",
    "    print(f\"Error {res.status_code}: {res.text}\")\n"
   ]
  },
  {
   "cell_type": "code",
   "execution_count": null,
   "id": "c182844f",
   "metadata": {},
   "outputs": [
    {
     "name": "stdout",
     "output_type": "stream",
     "text": [
      "Error generating image: ReplicateError Details:\n",
      "status: 404\n",
      "detail: The requested resource could not be found.\n",
      "Make sure your REPLICATE_API_KEY environment variable is set correctly\n"
     ]
    }
   ],
   "source": [
    "import replicate\n",
    "import requests\n",
    "from io import BytesIO\n",
    "from PIL import Image\n",
    "import os\n",
    "\n",
    "client = replicate.Client(api_token=os.environ[\"REPLICATE_API_KEY\"])\n",
    "\n",
    "def generate_and_show_image():\n",
    "    try:\n",
    "        # Fix: Use the correct model name and approach\n",
    "        # The model name format should be \"owner/model-name\"\n",
    "        output = client.run(\n",
    "            \"stability-ai/stable-diffusion-3-medium-diffusers\",\n",
    "            input={\n",
    "                \"prompt\": \"A beautiful sunset over mountains\",\n",
    "                \"width\": 512,\n",
    "                \"height\": 512,\n",
    "                \"num_inference_steps\": 20,\n",
    "                \"guidance_scale\": 7.5,\n",
    "                \"negative_prompt\": \"blurry, low quality, distorted, ugly, bad anatomy\"\n",
    "            }\n",
    "        )\n",
    "        \n",
    "        print(\"Generated image URLs:\", output)\n",
    "        \n",
    "        # Handle different output formats\n",
    "        if isinstance(output, list):\n",
    "            image_url = output[0]\n",
    "        else:\n",
    "            image_url = output\n",
    "        \n",
    "        # Download the image from the URL\n",
    "        response = requests.get(image_url)\n",
    "        response.raise_for_status()  # Raise an exception for bad status codes\n",
    "        \n",
    "        image = Image.open(BytesIO(response.content))\n",
    "        \n",
    "        # Display image in notebook (if running in Jupyter)\n",
    "        try:\n",
    "            from IPython.display import display\n",
    "            display(image)\n",
    "        except ImportError:\n",
    "            print(\"IPython not available, showing image using PIL\")\n",
    "            image.show()\n",
    "        \n",
    "        # Optionally save locally\n",
    "        image.save(\"generated_sunset.png\")\n",
    "        print(\"Image saved as generated_sunset.png\")\n",
    "        \n",
    "    except Exception as e:\n",
    "        print(f\"Error generating image: {e}\")\n",
    "        print(\"Make sure your REPLICATE_API_KEY environment variable is set correctly\")\n",
    "\n",
    "generate_and_show_image()"
   ]
  },
  {
   "cell_type": "code",
   "execution_count": 17,
   "id": "37f0f7cf",
   "metadata": {},
   "outputs": [
    {
     "name": "stdout",
     "output_type": "stream",
     "text": [
      "Error with alternative model: ReplicateError Details:\n",
      "title: Insufficient credit\n",
      "status: 402\n",
      "detail: You have insufficient credit to run this model. Go to https://replicate.com/account/billing#billing to purchase credit. Once you purchase credit, please wait a few minutes before trying again.\n"
     ]
    }
   ],
   "source": [
    "# Alternative function with a different stable diffusion model\n",
    "def generate_with_alternative_model():\n",
    "    try:\n",
    "        # Using a more commonly available model\n",
    "        output = client.run(\n",
    "            \"stability-ai/sdxl:39ed52f2a78e934b3ba6e2a89f5b1c712de7dfea535525255b1aa35c5565e08b\",\n",
    "            input={\n",
    "                \"prompt\": \"A beautiful sunset over mountains, highly detailed, photorealistic\",\n",
    "                \"width\": 512,\n",
    "                \"height\": 512,\n",
    "                \"num_inference_steps\": 20,\n",
    "                \"guidance_scale\": 7.5,\n",
    "                \"negative_prompt\": \"blurry, low quality, distorted, ugly, bad anatomy\"\n",
    "            }\n",
    "        )\n",
    "        \n",
    "        print(\"Generated image URLs:\", output)\n",
    "        \n",
    "        # Handle the output\n",
    "        if isinstance(output, list):\n",
    "            image_url = output[0]\n",
    "        else:\n",
    "            image_url = output\n",
    "        \n",
    "        # Download and display\n",
    "        response = requests.get(image_url)\n",
    "        response.raise_for_status()\n",
    "        \n",
    "        image = Image.open(BytesIO(response.content))\n",
    "        \n",
    "        try:\n",
    "            from IPython.display import display\n",
    "            display(image)\n",
    "        except ImportError:\n",
    "            image.show()\n",
    "        \n",
    "        image.save(\"generated_sunset_alt.png\")\n",
    "        print(\"Image saved as generated_sunset_alt.png\")\n",
    "        \n",
    "    except Exception as e:\n",
    "        print(f\"Error with alternative model: {e}\")\n",
    "\n",
    "generate_with_alternative_model()"
   ]
  },
  {
   "cell_type": "markdown",
   "id": "d57aa7b8",
   "metadata": {},
   "source": [
    "# Starting"
   ]
  },
  {
   "cell_type": "code",
   "execution_count": 1,
   "id": "8cfd6366",
   "metadata": {},
   "outputs": [],
   "source": [
    "# Cell 1: Setup and imports\n",
    "import sys\n",
    "import os\n",
    "from typing import Dict, List, Any\n",
    "\n",
    "# Add the parent directory of 'tools' to sys.path\n",
    "sys.path.append(os.path.abspath(\"..\"))\n",
    "\n",
    "from workflows.content_generation.static_image_gen import generate_static_images\n",
    "from workflows.content_generation.static_image_gen import generate_single_static_image\n",
    "from workflows.content_generation.static_image_gen import create_image_prompt\n",
    "from workflows.content_generation.static_image_gen import get_type_specific_requirements\n",
    "from workflows.content_generation.static_image_gen import get_image_style"
   ]
  },
  {
   "cell_type": "code",
   "execution_count": 2,
   "id": "78b470f3",
   "metadata": {},
   "outputs": [
    {
     "name": "stdout",
     "output_type": "stream",
     "text": [
      "{'type': 'hero_image', 'description': 'Main campaign hero image', 'prompt': '\\n    Create a high-quality hero_image image for marketing campaign.\\n    \\n    Product/Service: Premium organic skincare serum with natural ingredients that helps improve skin texture and reduce signs of aging. Perfect for busy professionals who want quality skincare.\\n    Target Audience: Busy professionals aged 25-45 who value quality and natural products\\n    Brand Tone: Professional\\n    Content Focus: quality, benefits, sustainability\\n    \\nBrand Colors: #2c3e50, #3498db, #f8f9fa\\n\\n\\n        Create a compelling hero image featuring Premium organic skincare serum with natural ingredients that helps improve skin texture and reduce signs of aging. Perfect for busy professionals who want quality skincare..\\n        Include:\\n        - Central product/service focus\\n        - Lifestyle context showing usage\\n        - Space for text overlay\\n        - Professional lighting and composition\\n        - Aspirational mood and feeling\\n        \\n    \\n    Style Requirements:\\n    - High resolution, professional quality\\n    - Clean, modern design\\n    - Strong visual hierarchy\\n    - Platform-optimized composition\\n    - Engaging and eye-catching\\n    - Brand-consistent aesthetics\\n    ', 'image_obj': <PIL.JpegImagePlugin.JpegImageFile image mode=RGB size=1072x1072 at 0x2014CD4A4D0>, 'dimensions': '1920x1072', 'style': 'cinematic, professional photography, lifestyle', 'brand_colors': '#2c3e50, #3498db, #f8f9fa', 'usage_rights': 'Generated for campaign use', 'alt_text': 'Hero image showcasing Premium organic skincare serum with natural ingredients that helps improve skin texture and reduce signs of aging. Perfect for busy professionals who want quality skincare. in lifestyle setting', 'file_name': 'hero_image_20250810_070124.png', 'variations': [{'style': 'bright', 'prompt': '\\n    Create a high-quality hero_image image for marketing campaign.\\n    \\n    Product/Service: Premium organic skincare serum with natural ingredients that helps improve skin texture and reduce signs of aging. Perfect for busy professionals who want quality skincare.\\n    Target Audience: Busy professionals aged 25-45 who value quality and natural products\\n    Brand Tone: Professional\\n    Content Focus: quality, benefits, sustainability\\n    \\nBrand Colors: #2c3e50, #3498db, #f8f9fa\\n\\n\\n        Create a compelling hero image featuring Premium organic skincare serum with natural ingredients that helps improve skin texture and reduce signs of aging. Perfect for busy professionals who want quality skincare..\\n        Include:\\n        - Central product/service focus\\n        - Lifestyle context showing usage\\n        - Space for text overlay\\n        - Professional lighting and composition\\n        - Aspirational mood and feeling\\n        \\n    \\n    Style Requirements:\\n    - High resolution, professional quality\\n    - Clean, modern design\\n    - Strong visual hierarchy\\n    - Platform-optimized composition\\n    - Engaging and eye-catching\\n    - Brand-consistent aesthetics\\n     Bright, high contrast, vibrant colors', 'description': 'Bright version of hero_image'}, {'style': 'minimal', 'prompt': '\\n    Create a high-quality hero_image image for marketing campaign.\\n    \\n    Product/Service: Premium organic skincare serum with natural ingredients that helps improve skin texture and reduce signs of aging. Perfect for busy professionals who want quality skincare.\\n    Target Audience: Busy professionals aged 25-45 who value quality and natural products\\n    Brand Tone: Professional\\n    Content Focus: quality, benefits, sustainability\\n    \\nBrand Colors: #2c3e50, #3498db, #f8f9fa\\n\\n\\n        Create a compelling hero image featuring Premium organic skincare serum with natural ingredients that helps improve skin texture and reduce signs of aging. Perfect for busy professionals who want quality skincare..\\n        Include:\\n        - Central product/service focus\\n        - Lifestyle context showing usage\\n        - Space for text overlay\\n        - Professional lighting and composition\\n        - Aspirational mood and feeling\\n        \\n    \\n    Style Requirements:\\n    - High resolution, professional quality\\n    - Clean, modern design\\n    - Strong visual hierarchy\\n    - Platform-optimized composition\\n    - Engaging and eye-catching\\n    - Brand-consistent aesthetics\\n     Minimal, clean, lots of white space', 'description': 'Minimal version of hero_image'}, {'style': 'dark', 'prompt': '\\n    Create a high-quality hero_image image for marketing campaign.\\n    \\n    Product/Service: Premium organic skincare serum with natural ingredients that helps improve skin texture and reduce signs of aging. Perfect for busy professionals who want quality skincare.\\n    Target Audience: Busy professionals aged 25-45 who value quality and natural products\\n    Brand Tone: Professional\\n    Content Focus: quality, benefits, sustainability\\n    \\nBrand Colors: #2c3e50, #3498db, #f8f9fa\\n\\n\\n        Create a compelling hero image featuring Premium organic skincare serum with natural ingredients that helps improve skin texture and reduce signs of aging. Perfect for busy professionals who want quality skincare..\\n        Include:\\n        - Central product/service focus\\n        - Lifestyle context showing usage\\n        - Space for text overlay\\n        - Professional lighting and composition\\n        - Aspirational mood and feeling\\n        \\n    \\n    Style Requirements:\\n    - High resolution, professional quality\\n    - Clean, modern design\\n    - Strong visual hierarchy\\n    - Platform-optimized composition\\n    - Engaging and eye-catching\\n    - Brand-consistent aesthetics\\n     Dark theme, moody lighting, premium feel', 'description': 'Dark version of hero_image'}], 'optimization': {'web_quality': 85, 'mobile_optimized': True, 'formats': ['PNG', 'JPG', 'WebP'], 'compression': 'lossless for graphics, lossy for photos', 'responsive_breakpoints': ['320px', '768px', '1024px', '1920px']}}\n",
      "{'type': 'social_post', 'description': 'Social media post image', 'prompt': '\\n    Create a high-quality social_post image for marketing campaign.\\n    \\n    Product/Service: Premium organic skincare serum with natural ingredients that helps improve skin texture and reduce signs of aging. Perfect for busy professionals who want quality skincare.\\n    Target Audience: Busy professionals aged 25-45 who value quality and natural products\\n    Brand Tone: Professional\\n    Content Focus: quality, benefits, sustainability\\n    \\nBrand Colors: #2c3e50, #3498db, #f8f9fa\\n\\n\\n        Create an engaging social media post image for Premium organic skincare serum with natural ingredients that helps improve skin texture and reduce signs of aging. Perfect for busy professionals who want quality skincare..\\n        Include:\\n        - Square or vertical format suitable for social platforms\\n        - Bold, attention-grabbing visuals\\n        - Clear product/service representation\\n        - Social-friendly composition with space for captions\\n        - Trendy, shareable aesthetic\\n        \\n    \\n    Style Requirements:\\n    - High resolution, professional quality\\n    - Clean, modern design\\n    - Strong visual hierarchy\\n    - Platform-optimized composition\\n    - Engaging and eye-catching\\n    - Brand-consistent aesthetics\\n    ', 'image_obj': <PIL.JpegImagePlugin.JpegImageFile image mode=RGB size=1072x1072 at 0x2014CCCB0D0>, 'dimensions': '1072x1072', 'style': 'trendy, colorful, social media optimized', 'brand_colors': '#2c3e50, #3498db, #f8f9fa', 'usage_rights': 'Generated for campaign use', 'alt_text': 'Social media image featuring Premium organic skincare serum with natural ingredients that helps improve skin texture and reduce signs of aging. Perfect for busy professionals who want quality skincare. for engagement', 'file_name': 'social_post_20250810_070136.png', 'variations': [{'style': 'bright', 'prompt': '\\n    Create a high-quality social_post image for marketing campaign.\\n    \\n    Product/Service: Premium organic skincare serum with natural ingredients that helps improve skin texture and reduce signs of aging. Perfect for busy professionals who want quality skincare.\\n    Target Audience: Busy professionals aged 25-45 who value quality and natural products\\n    Brand Tone: Professional\\n    Content Focus: quality, benefits, sustainability\\n    \\nBrand Colors: #2c3e50, #3498db, #f8f9fa\\n\\n\\n        Create an engaging social media post image for Premium organic skincare serum with natural ingredients that helps improve skin texture and reduce signs of aging. Perfect for busy professionals who want quality skincare..\\n        Include:\\n        - Square or vertical format suitable for social platforms\\n        - Bold, attention-grabbing visuals\\n        - Clear product/service representation\\n        - Social-friendly composition with space for captions\\n        - Trendy, shareable aesthetic\\n        \\n    \\n    Style Requirements:\\n    - High resolution, professional quality\\n    - Clean, modern design\\n    - Strong visual hierarchy\\n    - Platform-optimized composition\\n    - Engaging and eye-catching\\n    - Brand-consistent aesthetics\\n     Bright, high contrast, vibrant colors', 'description': 'Bright version of social_post'}, {'style': 'minimal', 'prompt': '\\n    Create a high-quality social_post image for marketing campaign.\\n    \\n    Product/Service: Premium organic skincare serum with natural ingredients that helps improve skin texture and reduce signs of aging. Perfect for busy professionals who want quality skincare.\\n    Target Audience: Busy professionals aged 25-45 who value quality and natural products\\n    Brand Tone: Professional\\n    Content Focus: quality, benefits, sustainability\\n    \\nBrand Colors: #2c3e50, #3498db, #f8f9fa\\n\\n\\n        Create an engaging social media post image for Premium organic skincare serum with natural ingredients that helps improve skin texture and reduce signs of aging. Perfect for busy professionals who want quality skincare..\\n        Include:\\n        - Square or vertical format suitable for social platforms\\n        - Bold, attention-grabbing visuals\\n        - Clear product/service representation\\n        - Social-friendly composition with space for captions\\n        - Trendy, shareable aesthetic\\n        \\n    \\n    Style Requirements:\\n    - High resolution, professional quality\\n    - Clean, modern design\\n    - Strong visual hierarchy\\n    - Platform-optimized composition\\n    - Engaging and eye-catching\\n    - Brand-consistent aesthetics\\n     Minimal, clean, lots of white space', 'description': 'Minimal version of social_post'}, {'style': 'dark', 'prompt': '\\n    Create a high-quality social_post image for marketing campaign.\\n    \\n    Product/Service: Premium organic skincare serum with natural ingredients that helps improve skin texture and reduce signs of aging. Perfect for busy professionals who want quality skincare.\\n    Target Audience: Busy professionals aged 25-45 who value quality and natural products\\n    Brand Tone: Professional\\n    Content Focus: quality, benefits, sustainability\\n    \\nBrand Colors: #2c3e50, #3498db, #f8f9fa\\n\\n\\n        Create an engaging social media post image for Premium organic skincare serum with natural ingredients that helps improve skin texture and reduce signs of aging. Perfect for busy professionals who want quality skincare..\\n        Include:\\n        - Square or vertical format suitable for social platforms\\n        - Bold, attention-grabbing visuals\\n        - Clear product/service representation\\n        - Social-friendly composition with space for captions\\n        - Trendy, shareable aesthetic\\n        \\n    \\n    Style Requirements:\\n    - High resolution, professional quality\\n    - Clean, modern design\\n    - Strong visual hierarchy\\n    - Platform-optimized composition\\n    - Engaging and eye-catching\\n    - Brand-consistent aesthetics\\n     Dark theme, moody lighting, premium feel', 'description': 'Dark version of social_post'}], 'optimization': {'web_quality': 85, 'mobile_optimized': True, 'formats': ['PNG', 'JPG', 'WebP'], 'compression': 'lossless for graphics, lossy for photos', 'responsive_breakpoints': ['320px', '768px', '1024px', '1920px'], 'social_platforms': {'instagram': {'size': '1080x1080', 'format': 'JPG'}, 'facebook': {'size': '1200x630', 'format': 'JPG'}, 'twitter': {'size': '1024x512', 'format': 'JPG'}, 'linkedin': {'size': '1200x627', 'format': 'PNG'}}}}\n",
      "{'type': 'ad_creative', 'description': 'Advertising creative', 'prompt': '\\n    Create a high-quality ad_creative image for marketing campaign.\\n    \\n    Product/Service: Premium organic skincare serum with natural ingredients that helps improve skin texture and reduce signs of aging. Perfect for busy professionals who want quality skincare.\\n    Target Audience: Busy professionals aged 25-45 who value quality and natural products\\n    Brand Tone: Professional\\n    Content Focus: quality, benefits, sustainability\\n    \\nBrand Colors: #2c3e50, #3498db, #f8f9fa\\n\\n\\n        Create a persuasive advertising creative for Premium organic skincare serum with natural ingredients that helps improve skin texture and reduce signs of aging. Perfect for busy professionals who want quality skincare..\\n        Include:\\n        - Clear value proposition visualization\\n        - Problem/solution representation\\n        - Trust-building elements\\n        - Call-to-action friendly layout\\n        - Conversion-optimized design\\n        \\n    \\n    Style Requirements:\\n    - High resolution, professional quality\\n    - Clean, modern design\\n    - Strong visual hierarchy\\n    - Platform-optimized composition\\n    - Engaging and eye-catching\\n    - Brand-consistent aesthetics\\n    ', 'image_obj': <PIL.JpegImagePlugin.JpegImageFile image mode=RGB size=1072x1072 at 0x2014CDBED50>, 'dimensions': '1200x624', 'style': 'persuasive, clean, conversion-focused', 'brand_colors': '#2c3e50, #3498db, #f8f9fa', 'usage_rights': 'Generated for campaign use', 'alt_text': 'Advertisement creative highlighting Premium organic skincare serum with natural ingredients that helps improve skin texture and reduce signs of aging. Perfect for busy professionals who want quality skincare. benefits', 'file_name': 'ad_creative_20250810_070148.png', 'variations': [{'style': 'bright', 'prompt': '\\n    Create a high-quality ad_creative image for marketing campaign.\\n    \\n    Product/Service: Premium organic skincare serum with natural ingredients that helps improve skin texture and reduce signs of aging. Perfect for busy professionals who want quality skincare.\\n    Target Audience: Busy professionals aged 25-45 who value quality and natural products\\n    Brand Tone: Professional\\n    Content Focus: quality, benefits, sustainability\\n    \\nBrand Colors: #2c3e50, #3498db, #f8f9fa\\n\\n\\n        Create a persuasive advertising creative for Premium organic skincare serum with natural ingredients that helps improve skin texture and reduce signs of aging. Perfect for busy professionals who want quality skincare..\\n        Include:\\n        - Clear value proposition visualization\\n        - Problem/solution representation\\n        - Trust-building elements\\n        - Call-to-action friendly layout\\n        - Conversion-optimized design\\n        \\n    \\n    Style Requirements:\\n    - High resolution, professional quality\\n    - Clean, modern design\\n    - Strong visual hierarchy\\n    - Platform-optimized composition\\n    - Engaging and eye-catching\\n    - Brand-consistent aesthetics\\n     Bright, high contrast, vibrant colors', 'description': 'Bright version of ad_creative'}, {'style': 'minimal', 'prompt': '\\n    Create a high-quality ad_creative image for marketing campaign.\\n    \\n    Product/Service: Premium organic skincare serum with natural ingredients that helps improve skin texture and reduce signs of aging. Perfect for busy professionals who want quality skincare.\\n    Target Audience: Busy professionals aged 25-45 who value quality and natural products\\n    Brand Tone: Professional\\n    Content Focus: quality, benefits, sustainability\\n    \\nBrand Colors: #2c3e50, #3498db, #f8f9fa\\n\\n\\n        Create a persuasive advertising creative for Premium organic skincare serum with natural ingredients that helps improve skin texture and reduce signs of aging. Perfect for busy professionals who want quality skincare..\\n        Include:\\n        - Clear value proposition visualization\\n        - Problem/solution representation\\n        - Trust-building elements\\n        - Call-to-action friendly layout\\n        - Conversion-optimized design\\n        \\n    \\n    Style Requirements:\\n    - High resolution, professional quality\\n    - Clean, modern design\\n    - Strong visual hierarchy\\n    - Platform-optimized composition\\n    - Engaging and eye-catching\\n    - Brand-consistent aesthetics\\n     Minimal, clean, lots of white space', 'description': 'Minimal version of ad_creative'}, {'style': 'dark', 'prompt': '\\n    Create a high-quality ad_creative image for marketing campaign.\\n    \\n    Product/Service: Premium organic skincare serum with natural ingredients that helps improve skin texture and reduce signs of aging. Perfect for busy professionals who want quality skincare.\\n    Target Audience: Busy professionals aged 25-45 who value quality and natural products\\n    Brand Tone: Professional\\n    Content Focus: quality, benefits, sustainability\\n    \\nBrand Colors: #2c3e50, #3498db, #f8f9fa\\n\\n\\n        Create a persuasive advertising creative for Premium organic skincare serum with natural ingredients that helps improve skin texture and reduce signs of aging. Perfect for busy professionals who want quality skincare..\\n        Include:\\n        - Clear value proposition visualization\\n        - Problem/solution representation\\n        - Trust-building elements\\n        - Call-to-action friendly layout\\n        - Conversion-optimized design\\n        \\n    \\n    Style Requirements:\\n    - High resolution, professional quality\\n    - Clean, modern design\\n    - Strong visual hierarchy\\n    - Platform-optimized composition\\n    - Engaging and eye-catching\\n    - Brand-consistent aesthetics\\n     Dark theme, moody lighting, premium feel', 'description': 'Dark version of ad_creative'}], 'optimization': {'web_quality': 85, 'mobile_optimized': True, 'formats': ['PNG', 'JPG', 'WebP'], 'compression': 'lossless for graphics, lossy for photos', 'responsive_breakpoints': ['320px', '768px', '1024px', '1920px'], 'ad_platforms': {'facebook_ads': {'size': '1200x628', 'text_limit': '20%'}, 'google_ads': {'size': '728x90', 'format': 'JPG'}, 'display': {'sizes': ['300x250', '728x90', '160x600']}}}}\n",
      "{'type': 'product_showcase', 'description': 'Product showcase image', 'prompt': '\\n    Create a high-quality product_showcase image for marketing campaign.\\n    \\n    Product/Service: Premium organic skincare serum with natural ingredients that helps improve skin texture and reduce signs of aging. Perfect for busy professionals who want quality skincare.\\n    Target Audience: Busy professionals aged 25-45 who value quality and natural products\\n    Brand Tone: Professional\\n    Content Focus: quality, benefits, sustainability\\n    \\nBrand Colors: #2c3e50, #3498db, #f8f9fa\\n\\n\\n        Create a product showcase image for Premium organic skincare serum with natural ingredients that helps improve skin texture and reduce signs of aging. Perfect for busy professionals who want quality skincare..\\n        Include:\\n        - Clean, white or branded background\\n        - Multiple product angles or features\\n        - Professional product photography style\\n        - Detail highlighting\\n        - E-commerce ready composition\\n        \\n    \\n    Style Requirements:\\n    - High resolution, professional quality\\n    - Clean, modern design\\n    - Strong visual hierarchy\\n    - Platform-optimized composition\\n    - Engaging and eye-catching\\n    - Brand-consistent aesthetics\\n    ', 'image_obj': <PIL.JpegImagePlugin.JpegImageFile image mode=RGB size=1072x1072 at 0x2014CD4A8D0>, 'dimensions': '992x992', 'style': 'clean, minimalist, product photography', 'brand_colors': '#2c3e50, #3498db, #f8f9fa', 'usage_rights': 'Generated for campaign use', 'alt_text': 'Product showcase displaying Premium organic skincare serum with natural ingredients that helps improve skin texture and reduce signs of aging. Perfect for busy professionals who want quality skincare. features', 'file_name': 'product_showcase_20250810_070200.png', 'variations': [{'style': 'bright', 'prompt': '\\n    Create a high-quality product_showcase image for marketing campaign.\\n    \\n    Product/Service: Premium organic skincare serum with natural ingredients that helps improve skin texture and reduce signs of aging. Perfect for busy professionals who want quality skincare.\\n    Target Audience: Busy professionals aged 25-45 who value quality and natural products\\n    Brand Tone: Professional\\n    Content Focus: quality, benefits, sustainability\\n    \\nBrand Colors: #2c3e50, #3498db, #f8f9fa\\n\\n\\n        Create a product showcase image for Premium organic skincare serum with natural ingredients that helps improve skin texture and reduce signs of aging. Perfect for busy professionals who want quality skincare..\\n        Include:\\n        - Clean, white or branded background\\n        - Multiple product angles or features\\n        - Professional product photography style\\n        - Detail highlighting\\n        - E-commerce ready composition\\n        \\n    \\n    Style Requirements:\\n    - High resolution, professional quality\\n    - Clean, modern design\\n    - Strong visual hierarchy\\n    - Platform-optimized composition\\n    - Engaging and eye-catching\\n    - Brand-consistent aesthetics\\n     Bright, high contrast, vibrant colors', 'description': 'Bright version of product_showcase'}, {'style': 'minimal', 'prompt': '\\n    Create a high-quality product_showcase image for marketing campaign.\\n    \\n    Product/Service: Premium organic skincare serum with natural ingredients that helps improve skin texture and reduce signs of aging. Perfect for busy professionals who want quality skincare.\\n    Target Audience: Busy professionals aged 25-45 who value quality and natural products\\n    Brand Tone: Professional\\n    Content Focus: quality, benefits, sustainability\\n    \\nBrand Colors: #2c3e50, #3498db, #f8f9fa\\n\\n\\n        Create a product showcase image for Premium organic skincare serum with natural ingredients that helps improve skin texture and reduce signs of aging. Perfect for busy professionals who want quality skincare..\\n        Include:\\n        - Clean, white or branded background\\n        - Multiple product angles or features\\n        - Professional product photography style\\n        - Detail highlighting\\n        - E-commerce ready composition\\n        \\n    \\n    Style Requirements:\\n    - High resolution, professional quality\\n    - Clean, modern design\\n    - Strong visual hierarchy\\n    - Platform-optimized composition\\n    - Engaging and eye-catching\\n    - Brand-consistent aesthetics\\n     Minimal, clean, lots of white space', 'description': 'Minimal version of product_showcase'}, {'style': 'dark', 'prompt': '\\n    Create a high-quality product_showcase image for marketing campaign.\\n    \\n    Product/Service: Premium organic skincare serum with natural ingredients that helps improve skin texture and reduce signs of aging. Perfect for busy professionals who want quality skincare.\\n    Target Audience: Busy professionals aged 25-45 who value quality and natural products\\n    Brand Tone: Professional\\n    Content Focus: quality, benefits, sustainability\\n    \\nBrand Colors: #2c3e50, #3498db, #f8f9fa\\n\\n\\n        Create a product showcase image for Premium organic skincare serum with natural ingredients that helps improve skin texture and reduce signs of aging. Perfect for busy professionals who want quality skincare..\\n        Include:\\n        - Clean, white or branded background\\n        - Multiple product angles or features\\n        - Professional product photography style\\n        - Detail highlighting\\n        - E-commerce ready composition\\n        \\n    \\n    Style Requirements:\\n    - High resolution, professional quality\\n    - Clean, modern design\\n    - Strong visual hierarchy\\n    - Platform-optimized composition\\n    - Engaging and eye-catching\\n    - Brand-consistent aesthetics\\n     Dark theme, moody lighting, premium feel', 'description': 'Dark version of product_showcase'}], 'optimization': {'web_quality': 85, 'mobile_optimized': True, 'formats': ['PNG', 'JPG', 'WebP'], 'compression': 'lossless for graphics, lossy for photos', 'responsive_breakpoints': ['320px', '768px', '1024px', '1920px']}}\n"
     ]
    }
   ],
   "source": [
    "# --- RUN ---\n",
    "content_strategy = {'brand_colors': '#2c3e50, #3498db, #f8f9fa',\n",
    " 'brand_tone': 'Professional',\n",
    " 'content_pillars': ['quality', 'benefits', 'sustainability'],\n",
    " 'content_types': ['ad_copy',\n",
    "                   'social_captions',\n",
    "                   'static_images',\n",
    "                   'ugc_scripts',\n",
    "                   'email_creative'],\n",
    " 'key_messages': ['Saves you time and effort', 'Premium quality you can trust'],\n",
    " 'product_description': 'Premium organic skincare serum with natural '\n",
    "                        'ingredients that helps improve skin texture and '\n",
    "                        'reduce signs of aging. Perfect for busy professionals '\n",
    "                        'who want quality skincare.',\n",
    " 'target_audience': 'Busy professionals aged 25-45 who value quality and '\n",
    "                    'natural products'}\n",
    "\n",
    "generated_images = generate_static_images(content_strategy, brand_colors=content_strategy['brand_colors'], include_product_visuals=True)\n",
    "for img in generated_images:\n",
    "    print(img)"
   ]
  },
  {
   "cell_type": "code",
   "execution_count": 3,
   "id": "ee20e21b",
   "metadata": {},
   "outputs": [
    {
     "name": "stdout",
     "output_type": "stream",
     "text": [
      "\n",
      "    Create a high-quality hero_image image for marketing campaign.\n",
      "    \n",
      "    Product/Service: Premium organic skincare serum with natural ingredients that helps improve skin texture and reduce signs of aging. Perfect for busy professionals who want quality skincare.\n",
      "    Target Audience: Busy professionals aged 25-45 who value quality and natural products\n",
      "    Brand Tone: Professional\n",
      "    Content Focus: quality, benefits, sustainability\n",
      "    \n",
      "Brand Colors: #2c3e50, #3498db, #f8f9fa\n",
      "\n",
      "\n",
      "        Create a compelling hero image featuring Premium organic skincare serum with natural ingredients that helps improve skin texture and reduce signs of aging. Perfect for busy professionals who want quality skincare..\n",
      "        Include:\n",
      "        - Central product/service focus\n",
      "        - Lifestyle context showing usage\n",
      "        - Space for text overlay\n",
      "        - Professional lighting and composition\n",
      "        - Aspirational mood and feeling\n",
      "        \n",
      "    \n",
      "    Style Requirements:\n",
      "    - High resolution, professional quality\n",
      "    - Clean, modern design\n",
      "    - Strong visual hierarchy\n",
      "    - Platform-optimized composition\n",
      "    - Engaging and eye-catching\n",
      "    - Brand-consistent aesthetics\n",
      "    \n"
     ]
    }
   ],
   "source": [
    "\n",
    "image_types = {\"type\": \"hero_image\", \"description\": \"Main campaign hero image\"}\n",
    "prompt = create_image_prompt(content_strategy, image_type=image_types[\"type\"], brand_colors=content_strategy['brand_colors'],description=image_types[\"description\"]) \n",
    "print(prompt)"
   ]
  },
  {
   "cell_type": "code",
   "execution_count": 4,
   "id": "f103de4b",
   "metadata": {},
   "outputs": [
    {
     "name": "stdout",
     "output_type": "stream",
     "text": [
      "cinematic, professional photography, lifestyle\n"
     ]
    }
   ],
   "source": [
    "def get_image_style(image_type: str) -> str:\n",
    "    \"\"\"Get style guidance for different image types\"\"\"\n",
    "    \n",
    "    styles = {\n",
    "        \"hero_image\": \"cinematic, professional photography, lifestyle\",\n",
    "        \"social_post\": \"trendy, colorful, social media optimized\",\n",
    "        \"ad_creative\": \"persuasive, clean, conversion-focused\",\n",
    "        \"product_showcase\": \"clean, minimalist, product photography\"\n",
    "    }\n",
    "    \n",
    "    return styles.get(image_type, \"professional, modern, clean\")\n",
    "image_types = {\"type\": \"hero_image\", \"description\": \"Main campaign hero image\"}\n",
    "print(get_image_style(image_type=image_types['type']))"
   ]
  },
  {
   "cell_type": "code",
   "execution_count": 5,
   "id": "a6c95761",
   "metadata": {},
   "outputs": [
    {
     "name": "stdout",
     "output_type": "stream",
     "text": [
      "1920x1072\n"
     ]
    }
   ],
   "source": [
    "def get_image_dimensions(image_type: str) -> str:\n",
    "    \"\"\"Get optimal dimensions for different image types\"\"\"\n",
    "    \n",
    "    dimensions = {\n",
    "        \"hero_image\": \"1920x1072\",\n",
    "        \"social_post\": \"1072x1072\",\n",
    "        \"ad_creative\": \"1200x624\",\n",
    "        \"product_showcase\": \"992x992\"\n",
    "    }\n",
    "\n",
    "    return dimensions.get(image_type, \"1072x1072\")\n",
    "print(get_image_dimensions(image_type=image_types['type']))"
   ]
  },
  {
   "cell_type": "code",
   "execution_count": 6,
   "id": "113a0f42",
   "metadata": {},
   "outputs": [
    {
     "name": "stdout",
     "output_type": "stream",
     "text": [
      "{'image_obj': <PIL.JpegImagePlugin.JpegImageFile image mode=RGB size=1072x1072 at 0x2014CDD3850>, 'filename': 'generated_image_1754789706.png', 'prompt': '\\n    Create a high-quality hero_image image for marketing campaign.\\n    \\n    Product/Service: Premium organic skincare serum with natural ingredients that helps improve skin texture and reduce signs of aging. Perfect for busy professionals who want quality skincare.\\n    Target Audience: Busy professionals aged 25-45 who value quality and natural products\\n    Brand Tone: Professional\\n    Content Focus: quality, benefits, sustainability\\n    \\nBrand Colors: #2c3e50, #3498db, #f8f9fa\\n\\n\\n        Create a compelling hero image featuring Premium organic skincare serum with natural ingredients that helps improve skin texture and reduce signs of aging. Perfect for busy professionals who want quality skincare..\\n        Include:\\n        - Central product/service focus\\n        - Lifestyle context showing usage\\n        - Space for text overlay\\n        - Professional lighting and composition\\n        - Aspirational mood and feeling\\n        \\n    \\n    Style Requirements:\\n    - High resolution, professional quality\\n    - Clean, modern design\\n    - Strong visual hierarchy\\n    - Platform-optimized composition\\n    - Engaging and eye-catching\\n    - Brand-consistent aesthetics\\n    , cinematic, professional photography, lifestyle, high resolution, detailed', 'dimensions': '1072x1072', 'size_bytes': 91594, 'format': 'PNG', 'generated_at': '1754789706', 'model': 'stabilityai/stable-diffusion-3-medium-diffusers'}\n"
     ]
    }
   ],
   "source": [
    "from tools.image_gen import generate_image\n",
    "style = \"cinematic, professional photography, lifestyle\"\n",
    "dimensions = \"1072x1072\"\n",
    "# Call generate_image\n",
    "image_result = generate_image(\n",
    "    prompt=prompt,\n",
    "    style=style,             # use your manual style here\n",
    "    dimensions=dimensions    # use your manual dimensions here\n",
    ")\n",
    "print(image_result)"
   ]
  },
  {
   "cell_type": "code",
   "execution_count": null,
   "id": "6889a71a",
   "metadata": {},
   "outputs": [],
   "source": []
  },
  {
   "cell_type": "code",
   "execution_count": null,
   "id": "8849908d",
   "metadata": {},
   "outputs": [],
   "source": []
  }
 ],
 "metadata": {
  "kernelspec": {
   "display_name": "myenv",
   "language": "python",
   "name": "python3"
  },
  "language_info": {
   "codemirror_mode": {
    "name": "ipython",
    "version": 3
   },
   "file_extension": ".py",
   "mimetype": "text/x-python",
   "name": "python",
   "nbconvert_exporter": "python",
   "pygments_lexer": "ipython3",
   "version": "3.11.13"
  }
 },
 "nbformat": 4,
 "nbformat_minor": 5
}
