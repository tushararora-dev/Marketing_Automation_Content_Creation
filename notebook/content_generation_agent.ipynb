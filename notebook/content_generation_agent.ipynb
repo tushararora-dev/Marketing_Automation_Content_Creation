{
 "cells": [
  {
   "cell_type": "code",
   "execution_count": 2,
   "id": "668a9178",
   "metadata": {},
   "outputs": [],
   "source": [
    "from typing import Dict, List, Any\n",
    "def extract_content_pillars(product_description: str) -> List[str]:\n",
    "    \"\"\"Extract key content pillars from product description\"\"\"\n",
    "    # Simple keyword extraction - in production, this would use more sophisticated NLP\n",
    "    pillars = []\n",
    "    \n",
    "    # Common content pillar keywords\n",
    "    pillar_keywords = {\n",
    "        \"quality\": [\"quality\", \"premium\", \"high-quality\", \"superior\"],\n",
    "        \"benefits\": [\"benefit\", \"advantage\", \"help\", \"improve\", \"enhance\"],\n",
    "        \"lifestyle\": [\"lifestyle\", \"daily\", \"routine\", \"life\", \"living\"],\n",
    "        \"innovation\": [\"innovative\", \"new\", \"technology\", \"advanced\", \"cutting-edge\"],\n",
    "        \"sustainability\": [\"eco\", \"sustainable\", \"green\", \"environment\", \"natural\"],\n",
    "        \"value\": [\"affordable\", \"value\", \"price\", \"cost-effective\", \"savings\"]\n",
    "    }\n",
    "    \n",
    "    description_lower = product_description.lower()\n",
    "    \n",
    "    for pillar, keywords in pillar_keywords.items():\n",
    "        if any(keyword in description_lower for keyword in keywords):\n",
    "            pillars.append(pillar)\n",
    "    \n",
    "    return pillars[:4]  # Return top 4 pillars"
   ]
  },
  {
   "cell_type": "code",
   "execution_count": 3,
   "id": "a597164a",
   "metadata": {},
   "outputs": [
    {
     "data": {
      "text/plain": [
       "['quality', 'benefits', 'sustainability']"
      ]
     },
     "execution_count": 3,
     "metadata": {},
     "output_type": "execute_result"
    }
   ],
   "source": [
    "product_description = \"Our premium eco-friendly bottle helps you save money and stay hydrated every day.\"\n",
    "extract_content_pillars(product_description)"
   ]
  },
  {
   "cell_type": "code",
   "execution_count": 7,
   "id": "b9c71df8",
   "metadata": {},
   "outputs": [],
   "source": [
    "def extract_key_messages(product_description: str, target_audience: str) -> List[str]:\n",
    "    \"\"\"Extract key marketing messages\"\"\"\n",
    "    messages = []\n",
    "    \n",
    "    # Extract product benefits\n",
    "    if \"health\" in product_description.lower():\n",
    "        messages.append(\"Supports your health and wellness goals\")\n",
    "    \n",
    "    if \"time\" in product_description.lower() or \"busy\" in target_audience.lower():\n",
    "        messages.append(\"Saves you time and effort\")\n",
    "    \n",
    "    if \"eco\" in product_description.lower() or \"sustainable\" in product_description.lower():\n",
    "        messages.append(\"Environmentally conscious choice\")\n",
    "    \n",
    "    if \"premium\" in product_description.lower() or \"quality\" in product_description.lower():\n",
    "        messages.append(\"Premium quality you can trust\")\n",
    "    \n",
    "    # Default message\n",
    "    if not messages:\n",
    "        messages.append(\"Perfect solution for your needs\")\n",
    "    return messages"
   ]
  },
  {
   "cell_type": "code",
   "execution_count": 8,
   "id": "aaa3ce06",
   "metadata": {},
   "outputs": [
    {
     "data": {
      "text/plain": [
       "['Saves you time and effort',\n",
       " 'Environmentally conscious choice',\n",
       " 'Premium quality you can trust']"
      ]
     },
     "execution_count": 8,
     "metadata": {},
     "output_type": "execute_result"
    }
   ],
   "source": [
    "product_description = \"An eco-friendly premium bottle that saves time\"\n",
    "target_audience = 'Busy professionals'\n",
    "extract_key_messages(product_description,target_audience)"
   ]
  },
  {
   "cell_type": "code",
   "execution_count": 9,
   "id": "57296806",
   "metadata": {},
   "outputs": [
    {
     "data": {
      "text/plain": [
       "True"
      ]
     },
     "execution_count": 9,
     "metadata": {},
     "output_type": "execute_result"
    }
   ],
   "source": [
    "def validate_content_result(result: Dict[str, Any]) -> bool:\n",
    "    \"\"\"Validate that the content result contains required elements\"\"\"\n",
    "    # Check if at least one content type was generated successfully\n",
    "    content_fields = [\"ad_copy\", \"social_captions\", \"images\", \"ugc_scripts\", \"email_assets\"]\n",
    "    return any(result.get(field) for field in content_fields)\n",
    "result = {\n",
    "    \"ad_copy\": [\"Buy now!\"],\n",
    "    \"images\": [],\n",
    "    \"ugc_scripts\": [],\n",
    "    \"email_assets\": [],\n",
    "    \"social_captions\": {},\n",
    "}\n",
    "validate_content_result(result)"
   ]
  },
  {
   "cell_type": "code",
   "execution_count": 10,
   "id": "a9a72157",
   "metadata": {},
   "outputs": [],
   "source": [
    "def analyze_requirements_node(state: Dict[str, Any]) -> Dict[str, Any]:\n",
    "    \"\"\"Node to analyze content requirements\"\"\"\n",
    "    try:\n",
    "        # Process and validate content requirements\n",
    "        content_strategy = {\n",
    "            \"product_description\": state[\"product_description\"],\n",
    "            \"target_audience\": state[\"target_audience\"],\n",
    "            \"content_types\": state[\"content_types\"],\n",
    "            \"brand_tone\": state[\"brand_tone\"],\n",
    "            \"brand_colors\": state.get(\"brand_colors\", \"\"),\n",
    "            \"content_pillars\": extract_content_pillars(state[\"product_description\"]),\n",
    "            \"key_messages\": extract_key_messages(state[\"product_description\"], state[\"target_audience\"])\n",
    "        }\n",
    "        state[\"content_strategy\"] = content_strategy\n",
    "        return state\n",
    "    except Exception as e:\n",
    "        state[\"errors\"] = state.get(\"errors\", [])\n",
    "        state[\"errors\"].append(f\"Requirements analysis failed: {str(e)}\")\n",
    "        return state"
   ]
  },
  {
   "cell_type": "code",
   "execution_count": 11,
   "id": "351a512e",
   "metadata": {},
   "outputs": [
    {
     "data": {
      "text/plain": [
       "{'product_description': 'A sleek, premium bottle that keeps drinks cold for 24 hours and is made from eco-friendly materials.',\n",
       " 'target_audience': 'Busy working professionals who care about health and the environment',\n",
       " 'content_types': ['ad_copy', 'ugc_scripts'],\n",
       " 'brand_tone': 'Professional',\n",
       " 'brand_colors': '#00FF00',\n",
       " 'content_strategy': {'product_description': 'A sleek, premium bottle that keeps drinks cold for 24 hours and is made from eco-friendly materials.',\n",
       "  'target_audience': 'Busy working professionals who care about health and the environment',\n",
       "  'content_types': ['ad_copy', 'ugc_scripts'],\n",
       "  'brand_tone': 'Professional',\n",
       "  'brand_colors': '#00FF00',\n",
       "  'content_pillars': ['quality', 'sustainability'],\n",
       "  'key_messages': ['Saves you time and effort',\n",
       "   'Environmentally conscious choice',\n",
       "   'Premium quality you can trust']}}"
      ]
     },
     "execution_count": 11,
     "metadata": {},
     "output_type": "execute_result"
    }
   ],
   "source": [
    "state = {\n",
    "    \"product_description\": \"A sleek, premium bottle that keeps drinks cold for 24 hours and is made from eco-friendly materials.\",\n",
    "    \"target_audience\": \"Busy working professionals who care about health and the environment\",\n",
    "    \"content_types\": [\"ad_copy\", \"ugc_scripts\"],\n",
    "    \"brand_tone\": \"Professional\",\n",
    "    \"brand_colors\": \"#00FF00\"\n",
    "}\n",
    "analyze_requirements_node(state)"
   ]
  },
  {
   "cell_type": "code",
   "execution_count": null,
   "id": "41525a4d",
   "metadata": {},
   "outputs": [],
   "source": []
  }
 ],
 "metadata": {
  "kernelspec": {
   "display_name": "myenv",
   "language": "python",
   "name": "python3"
  },
  "language_info": {
   "codemirror_mode": {
    "name": "ipython",
    "version": 3
   },
   "file_extension": ".py",
   "mimetype": "text/x-python",
   "name": "python",
   "nbconvert_exporter": "python",
   "pygments_lexer": "ipython3",
   "version": "3.11.13"
  }
 },
 "nbformat": 4,
 "nbformat_minor": 5
}
