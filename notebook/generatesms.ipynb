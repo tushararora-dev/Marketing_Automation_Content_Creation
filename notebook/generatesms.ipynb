{
 "cells": [
  {
   "cell_type": "code",
   "execution_count": null,
   "id": "5309598d",
   "metadata": {},
   "outputs": [],
   "source": [
    "# Cell 1: Setup and imports\n",
    "import sys\n",
    "import os\n",
    "from typing import Dict, List, Any\n",
    "from datetime import datetime\n",
    "\n",
    "# Add the parent directory to sys.path if needed\n",
    "sys.path.append(os.path.abspath(\"..\"))\n",
    "\n",
    "# Import the workflow functions\n",
    "from workflows.marketing_automation.sms_generator import generate_sms\n",
    "from tools.browser_utils import analyze_brand_from_url"
   ]
  },
  {
   "cell_type": "code",
   "execution_count": null,
   "id": "f7a7b35b",
   "metadata": {},
   "outputs": [],
   "source": [
    "brand_url = \"https://amlgolabs.com\"\n",
    "def analyze_brand_node(state: Dict[str, Any]) -> Dict[str, Any]:\n",
    "    \"\"\"Node to analyze brand from URL\"\"\"\n",
    "    try:\n",
    "        brand_url = state[\"brand_url\"]\n",
    "        brand_analysis = analyze_brand_from_url(brand_url)\n",
    "        state[\"brand_analysis\"] = brand_analysis\n",
    "        return state\n",
    "    except Exception as e:\n",
    "        state[\"errors\"].append(f\"Brand analysis failed: {str(e)}\")\n",
    "        return state\n",
    "        \n",
    "brand_analysis = analyze_brand_from_url(brand_url)\n",
    "print(brand_analysis)"
   ]
  },
  {
   "cell_type": "code",
   "execution_count": null,
   "id": "25d244d3",
   "metadata": {},
   "outputs": [],
   "source": [
    "from typing import Dict, Any\n",
    "from workflows.marketing_automation.planner import plan_campaign\n",
    "def plan_campaign_node(state: Dict[str, Any]) -> Dict[str, Any]:\n",
    "    \"\"\"Node to plan the marketing campaign\"\"\"\n",
    "    try:\n",
    "        campaign_plan = plan_campaign(\n",
    "            brand_analysis=state[\"brand_analysis\"],\n",
    "            campaign_type=state[\"campaign_type\"],\n",
    "            custom_prompt=state.get(\"custom_prompt\", \"\"),\n",
    "            num_emails=state[\"num_emails\"],\n",
    "            num_sms=state[\"num_sms\"],\n",
    "            target_audience=state[\"target_audience\"],\n",
    "            tone=state[\"tone\"]\n",
    "        )\n",
    "        state[\"campaign_plan\"] = campaign_plan\n",
    "        return state\n",
    "    except Exception as e:\n",
    "        state[\"errors\"].append(f\"Campaign planning failed: {str(e)}\")\n",
    "        return state\n",
    "    \n",
    "state = {\n",
    "    \"brand_analysis\": brand_analysis,\n",
    "    \"campaign_type\": \"email\",   # Example, change as needed\n",
    "    \"num_emails\": 3,\n",
    "    \"num_sms\": 2,\n",
    "    \"target_audience\": brand_analysis['target_audience'],\n",
    "    \"tone\": brand_analysis['tone'],\n",
    "    # optionally add custom_prompt key\n",
    "    # \"custom_prompt\": \"Some custom prompt text\",\n",
    "    \"errors\": []\n",
    "}\n",
    "\n",
    "result = plan_campaign_node(state)\n",
    "# Check the output\n",
    "print(result.get(\"campaign_plan\"))\n",
    "print(result.get(\"errors\"))"
   ]
  },
  {
   "cell_type": "code",
   "execution_count": null,
   "id": "df1e0804",
   "metadata": {},
   "outputs": [],
   "source": [
    "from workflows.marketing_automation.email_generator import generate_emails    \n",
    "def generate_emails_node(state: Dict[str, Any]) -> Dict[str, Any]:\n",
    "    \"\"\"Node to generate email content\"\"\"\n",
    "    try:\n",
    "        emails = generate_emails(\n",
    "            brand_analysis=state[\"brand_analysis\"],\n",
    "            campaign_plan=state[\"campaign_plan\"],\n",
    "            num_emails=state[\"num_emails\"],\n",
    "            tone=state[\"tone\"]\n",
    "        )\n",
    "        state[\"emails\"] = emails\n",
    "        return state\n",
    "    except Exception as e:\n",
    "        state[\"errors\"].append(f\"Email generation failed: {str(e)}\")\n",
    "        return state\n",
    "tone = \"Professional\"\n",
    "text = generate_emails(brand_analysis=brand_analysis, campaign_plan=result, num_emails=1, tone=tone)\n",
    "print(text)"
   ]
  },
  {
   "cell_type": "code",
   "execution_count": null,
   "id": "af69e12e",
   "metadata": {},
   "outputs": [],
   "source": [
    "from workflows.marketing_automation.sms_generator import generate_sms\n",
    "def generate_sms_node(state: Dict[str, Any]) -> Dict[str, Any]:\n",
    "    \"\"\"Node to generate SMS content\"\"\"\n",
    "    try:\n",
    "        if state[\"num_sms\"] > 0:\n",
    "            sms = generate_sms(\n",
    "                brand_analysis=state[\"brand_analysis\"],\n",
    "                campaign_plan=state[\"campaign_plan\"],\n",
    "                num_sms=state[\"num_sms\"],\n",
    "                tone=state[\"tone\"]\n",
    "            )\n",
    "            state[\"sms\"] = sms\n",
    "        return state\n",
    "    except Exception as e:\n",
    "        state[\"errors\"].append(f\"SMS generation failed: {str(e)}\")\n",
    "        return state\n",
    "sms = generate_sms(brand_analysis=brand_analysis, campaign_plan=result, num_sms=1, tone=tone)\n",
    "print(sms)"
   ]
  },
  {
   "cell_type": "code",
   "execution_count": null,
   "id": "67197b48",
   "metadata": {},
   "outputs": [],
   "source": [
    "from pprint import pprint\n",
    "pprint(sms)"
   ]
  },
  {
   "cell_type": "code",
   "execution_count": null,
   "id": "431b7c8e",
   "metadata": {},
   "outputs": [],
   "source": [
    "from pprint import pprint\n",
    "pprint(brand_analysis)"
   ]
  },
  {
   "cell_type": "code",
   "execution_count": null,
   "id": "714160d9",
   "metadata": {},
   "outputs": [],
   "source": [
    "from pprint import pprint\n",
    "pprint(result)"
   ]
  },
  {
   "cell_type": "code",
   "execution_count": null,
   "id": "d37769e0",
   "metadata": {},
   "outputs": [],
   "source": []
  }
 ],
 "metadata": {
  "kernelspec": {
   "display_name": "myenv",
   "language": "python",
   "name": "python3"
  },
  "language_info": {
   "codemirror_mode": {
    "name": "ipython",
    "version": 3
   },
   "file_extension": ".py",
   "mimetype": "text/x-python",
   "name": "python",
   "nbconvert_exporter": "python",
   "pygments_lexer": "ipython3",
   "version": "3.11.13"
  }
 },
 "nbformat": 4,
 "nbformat_minor": 5
}
