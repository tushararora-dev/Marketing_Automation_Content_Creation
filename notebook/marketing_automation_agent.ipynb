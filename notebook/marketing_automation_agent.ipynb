{
 "cells": [
  {
   "cell_type": "code",
   "execution_count": 12,
   "id": "4396f0df",
   "metadata": {},
   "outputs": [],
   "source": [
    "# Cell 1: Setup and imports\n",
    "import sys\n",
    "import os\n",
    "from typing import Dict, List, Any\n",
    "\n",
    "# Add the parent directory of 'tools' to sys.path\n",
    "sys.path.append(os.path.abspath(\"..\"))\n",
    "\n",
    "from tools.browser_utils import analyze_brand_from_url\n",
    "from workflows.marketing_automation.planner import plan_campaign\n",
    "from workflows.marketing_automation.email_generator import generate_emails\n",
    "from workflows.marketing_automation.sms_generator import generate_sms\n",
    "from workflows.marketing_automation.visual_generator import generate_visuals\n",
    "from workflows.marketing_automation.flow_builder import build_campaign_flow"
   ]
  },
  {
   "cell_type": "code",
   "execution_count": 13,
   "id": "6797401c",
   "metadata": {},
   "outputs": [
    {
     "name": "stdout",
     "output_type": "stream",
     "text": [
      "Initial test state:\n",
      "{'brand_url': 'https://amlgolabs.com/', 'campaign_type': 'Custom', 'custom_prompt': 'Focus on AI and innovation', 'num_emails': 3, 'num_sms': 2, 'target_audience': 'Tech entrepreneurs and developers', 'tone': 'Professional', 'errors': []}\n"
     ]
    }
   ],
   "source": [
    "# Cell 2: Initialize test state with sample data\n",
    "test_state = {\n",
    "    \"brand_url\": \"https://amlgolabs.com/\",\n",
    "    \"campaign_type\": \"Custom\",  # or whatever campaign type you want to test\n",
    "    \"custom_prompt\": \"Focus on AI and innovation\",\n",
    "    \"num_emails\": 3,\n",
    "    \"num_sms\": 2,\n",
    "    \"target_audience\": \"Tech entrepreneurs and developers\",\n",
    "    \"tone\": \"Professional\",\n",
    "    \"errors\": []\n",
    "}\n",
    "\n",
    "print(\"Initial test state:\")\n",
    "print(test_state)"
   ]
  },
  {
   "cell_type": "code",
   "execution_count": 14,
   "id": "d09f00ba",
   "metadata": {},
   "outputs": [
    {
     "name": "stdout",
     "output_type": "stream",
     "text": [
      "\n",
      "After brand analysis:\n",
      "{'brand_url': 'https://amlgolabs.com/', 'campaign_type': 'Custom', 'custom_prompt': 'Focus on AI and innovation', 'num_emails': 3, 'num_sms': 2, 'target_audience': 'Tech entrepreneurs and developers', 'tone': 'Professional', 'errors': [], 'brand_analysis': {'url': 'https://amlgolabs.com/', 'brand_name': 'Amlgolabs', 'description': 'You to make data-driven decisions and stay ahead of the competition.', 'products': ['Innovation In Product Development. We', 'Including Predictive Analytics', 'Designed To Unlock New Opportunities', 'Cloud-Native Ai Model Development', 'Including Predictive Analytics And Generative'], 'target_audience': 'Data-driven success', 'value_propositions': ['Trusted solution', 'Innovative solution'], 'keywords': ['data', 'solutions', 'amlgo', 'labs', 'analytics', 'our', 'your', 'generative', 'insights', 'predictive', 'their', 'driven', 'actionable', 'efficiency', 'tailored', 'outcomes', 'based', 'businesses', 'business', 'models'], 'colors': ['#007bff', '#6c757d'], 'tone': 'Professional', 'competitors': ['Traditional Predictive Ai'], 'contact_info': {}, 'social_links': {'facebook': 'https://facebook.com/AmlgoLabs', 'twitter': 'https://twitter.com/AmlgoLabs', 'instagram': 'https://instagram.com/amlgolabs', 'linkedin': 'https://linkedin.com/amlgolabs'}, 'content_themes': ['Technology', 'Health', 'Business'], 'pricing_info': {'has_pricing': True, 'pricing_model': 'Unknown', 'price_points': ['$3']}, 'analyzed_at': 1754709178.0404434}}\n",
      "Errors: []\n"
     ]
    }
   ],
   "source": [
    "# Cell 3: Test Node 1 - Brand Analysis\n",
    "def analyze_brand_node(state: Dict[str, Any]) -> Dict[str, Any]:\n",
    "    \"\"\"Node to analyze brand from URL\"\"\"\n",
    "    try:\n",
    "        brand_url = state[\"brand_url\"]\n",
    "        brand_analysis = analyze_brand_from_url(brand_url)\n",
    "        state[\"brand_analysis\"] = brand_analysis\n",
    "        return state\n",
    "    except Exception as e:\n",
    "        state[\"errors\"].append(f\"Brand analysis failed: {str(e)}\")\n",
    "        return state\n",
    "\n",
    "# Test the node\n",
    "test_state = analyze_brand_node(test_state)\n",
    "print(\"\\nAfter brand analysis:\")\n",
    "print(test_state)\n",
    "print(\"Errors:\", test_state[\"errors\"])"
   ]
  },
  {
   "cell_type": "code",
   "execution_count": 18,
   "id": "583b3997",
   "metadata": {},
   "outputs": [
    {
     "name": "stdout",
     "output_type": "stream",
     "text": [
      "\n",
      "After brand analysis:\n",
      "{'campaign_type': 'Custom', 'objective': '**', 'strategy': '* Segmentation approach: Segment based on job title, industry, and location to personalize messaging and content  **Messaging Strategy:**', 'timeline': [{'sequence': 1, 'type': 'email', 'trigger_hours': 1, 'trigger_description': 'Send email 1 after 1 hours'}, {'sequence': 2, 'type': 'email', 'trigger_hours': 24, 'trigger_description': 'Send email 2 after 24 hours'}, {'sequence': 1, 'type': 'sms', 'trigger_hours': 48, 'trigger_description': 'Send SMS 1 after 48 hours'}, {'sequence': 3, 'type': 'email', 'trigger_hours': 72, 'trigger_description': 'Send email 3 after 72 hours'}], 'email_sequence': [{'email_number': 1, 'purpose': 'Gentle reminder', 'focus': 'Complete your purchase', 'key_message': 'Email 1: Complete your purchase'}, {'email_number': 2, 'purpose': 'Value reinforcement', 'focus': 'Product benefits', 'key_message': 'Email 2: Product benefits'}, {'email_number': 3, 'purpose': 'Urgency creation', 'focus': 'Limited time offer', 'key_message': 'Email 3: Limited time offer'}], 'sms_sequence': [{'sms_number': 1, 'purpose': 'Urgent reminder', 'focus': 'Quick action needed', 'key_message': 'SMS 1: Quick action needed'}, {'sms_number': 2, 'purpose': 'Special offer', 'focus': 'Exclusive mobile discount', 'key_message': 'SMS 2: Exclusive mobile discount'}], 'triggers': {'start_trigger': 'Custom trigger defined by user', 'conditions': ['Custom conditions apply'], 'exclusions': ['User has opted out of marketing emails', 'User has hard bounced email address', 'User is in suppression list', 'User has completed target action in last 24 hours']}, 'success_metrics': ['Open rate > 25%', 'Click-through rate > 3%', 'Conversion rate > 2%', 'Revenue per email > $1', 'Unsubscribe rate < 0.5%'], 'personalization': {'name_personalization': True, 'product_recommendations': True, 'behavioral_triggers': True, 'dynamic_content': ['Product images based on cart items', 'Personalized subject lines', 'Location-based offers', 'Purchase history references'], 'segmentation': ['First-time visitors', 'Returning customers', 'High-value customers', 'Inactive users']}, 'full_plan': '**Campaign Plan: \"Unlock Innovation with Amlgolabs\"**\\n\\n**Campaign Objective:**\\n\\n* Primary goal: Generate interest and drive conversions among Tech entrepreneurs and developers\\n* Success metrics: Email open rates, click-through rates, conversion rates, and lead generation\\n* KPIs: Track engagement, conversion, and lead quality\\n\\n**Target Audience:**\\n\\n* Tech entrepreneurs and developers\\n* Profile: Young professionals (25-45), interested in AI, innovation, and data-driven decision-making\\n* Pain points: Difficulty in making data-driven decisions, seeking innovative solutions to stay ahead in the tech industry\\n* Preferred communication channels: Email and SMS\\n* Segmentation approach: Segment based on job title, industry, and location to personalize messaging and content\\n\\n**Messaging Strategy:**\\n\\n* Core value proposition: \"Make data-driven decisions and stay ahead of the competition with Amlgolabs\"\\n* Key messages:\\n\\t+ Stage 1: Awareness (Email 1) - \"Unlock new opportunities with AI-powered predictive analytics\"\\n\\t+ Stage 2: Consideration (Email 2) - \"Discover how Amlgolabs can help you make data-driven decisions\"\\n\\t+ Stage 3: Conversion (Email 3) - \"Get started with Amlgolabs and unlock your competitive edge\"\\n* Tone and voice: Professional, innovative, and solution-focused\\n* Personalization elements: Use job titles, industries, and locations to personalize subject lines, content, and CTAs\\n\\n**Channel Strategy:**\\n\\n* Email marketing approach and cadence:\\n\\t+ Email 1: Send to all subscribers, introducing Amlgolabs and its value proposition (7 days after subscription)\\n\\t+ Email 2: Send to subscribers who engaged with Email 1, with a more in-depth look at Amlgolabs\\' solutions (14 days after Email 1)\\n\\t+ Email 3: Send to subscribers who engaged with Email 2, with a clear call-to-action to get started with Amlgolabs (21 days after Email 1)\\n* SMS marketing integration and timing:\\n\\t+ SMS 1: Send a brief introductory message to subscribers who engaged with Email 1, highlighting Amlgolabs\\' innovative solutions (3 days after Email 1)\\n\\t+ SMS 2: Send a reminder message to subscribers who engaged with Email 2, with a call-to-action to get started with Amlgolabs (14 days after Email 2)\\n\\n**Content Strategy:**\\n\\n* Content themes and pillars:\\n\\t+ AI-powered predictive analytics\\n\\t+ Cloud-native AI model development\\n\\t+ Generative analytics\\n* Visual and creative direction: Modern, innovative, and professional visuals, with a focus on data-driven insights\\n* Asset requirements:\\n\\t+ Email templates\\n\\t+ SMS templates\\n\\t+ Social media assets (Facebook, Twitter, LinkedIn)\\n\\t+ Blog posts and whitepapers\\n* Brand consistency guidelines: Use Amlgolabs\\' brand colors, fonts, and logos consistently across all channels\\n\\n**Timing and Sequencing:**\\n\\n* Campaign launch strategy: Launch campaign on a Tuesday or Wednesday, when engagement rates are typically higher\\n* Message timing and frequency:\\n\\t+ Email 1: Send at 10:00 AM EST, with a follow-up email 7 days later\\n\\t+ Email 2: Send at 2:00 PM EST, with a follow-up email 7 days later\\n\\t+ Email 3: Send at 10:00 AM EST, with a follow-up email 7 days later\\n\\t+ SMS 1: Send at 12:00 PM EST, with a follow-up SMS 3 days later\\n\\t+ SMS 2: Send at 2:00 PM EST, with a follow-up SMS 7 days later\\n* Trigger conditions and automation rules:\\n\\t+ Trigger Email 1 when a subscriber signs up for Amlgolabs\\' newsletter\\n\\t+ Trigger Email 2 when a subscriber engages with Email 1 (opens, clicks, or converts)\\n\\t+ Trigger Email 3 when a subscriber engages with Email 2 (opens, clicks, or converts)\\n\\t+ Trigger SMS 1 when a subscriber engages with Email 1 (opens, clicks, or converts)\\n\\t+ Trigger SMS 2 when a subscriber engages with Email 2 (opens, clicks, or converts)\\n\\n**Personalization and Dynamic Content Strategy:**\\n\\n* Use subscriber data to personalize subject lines, content, and CTAs\\n* Use A/B testing to optimize email and SMS content for better engagement and conversion\\n\\n**Success Metrics and Optimization Plan:**\\n\\n* Track email open rates, click-through rates, conversion rates, and lead generation\\n* Monitor campaign performance and adjust messaging, timing, and segmentation as needed\\n* Use A/B testing and experimentation to optimize campaign performance and improve ROI\\n\\nBy following this campaign plan, Amlgolabs can effectively reach and engage with Tech entrepreneurs and developers, showcasing its innovative solutions and driving conversions.'}\n",
      "Errors: []\n"
     ]
    }
   ],
   "source": [
    "# Cell 4: Test Node 2 - Campaign Planning\n",
    "def plan_campaign_node(state: Dict[str, Any]) -> Dict[str, Any]:\n",
    "    \"\"\"Node to plan the marketing campaign\"\"\"\n",
    "    try:\n",
    "        campaign_plan = plan_campaign(\n",
    "            brand_analysis=state[\"brand_analysis\"],\n",
    "            campaign_type=state[\"campaign_type\"],\n",
    "            custom_prompt=state.get(\"custom_prompt\", \"\"),\n",
    "            num_emails=state[\"num_emails\"],\n",
    "            num_sms=state[\"num_sms\"],\n",
    "            target_audience=state[\"target_audience\"],\n",
    "            tone=state[\"tone\"]\n",
    "        )\n",
    "        state[\"campaign_plan\"] = campaign_plan\n",
    "        return state\n",
    "    except Exception as e:\n",
    "        state[\"errors\"].append(f\"Campaign planning failed: {str(e)}\")\n",
    "        return state\n",
    "\n",
    "# Test the node\n",
    "test_state2 = plan_campaign_node(test_state)\n",
    "print(\"\\nAfter brand analysis:\")\n",
    "print(test_state2['campaign_plan'])\n",
    "print(\"Errors:\", test_state2[\"errors\"])"
   ]
  },
  {
   "cell_type": "code",
   "execution_count": 17,
   "id": "87b3160f",
   "metadata": {},
   "outputs": [
    {
     "name": "stdout",
     "output_type": "stream",
     "text": [
      "brand_url =  https://amlgolabs.com/\n",
      "campaign_type =  Custom\n",
      "custom_prompt =  Focus on AI and innovation\n",
      "num_emails =  3\n",
      "num_sms =  2\n",
      "target_audience =  Tech entrepreneurs and developers\n",
      "tone =  Professional\n",
      "errors =  []\n",
      "brand_analysis =  {'url': 'https://amlgolabs.com/', 'brand_name': 'Amlgolabs', 'description': 'You to make data-driven decisions and stay ahead of the competition.', 'products': ['Innovation In Product Development. We', 'Including Predictive Analytics', 'Designed To Unlock New Opportunities', 'Cloud-Native Ai Model Development', 'Including Predictive Analytics And Generative'], 'target_audience': 'Data-driven success', 'value_propositions': ['Trusted solution', 'Innovative solution'], 'keywords': ['data', 'solutions', 'amlgo', 'labs', 'analytics', 'our', 'your', 'generative', 'insights', 'predictive', 'their', 'driven', 'actionable', 'efficiency', 'tailored', 'outcomes', 'based', 'businesses', 'business', 'models'], 'colors': ['#007bff', '#6c757d'], 'tone': 'Professional', 'competitors': ['Traditional Predictive Ai'], 'contact_info': {}, 'social_links': {'facebook': 'https://facebook.com/AmlgoLabs', 'twitter': 'https://twitter.com/AmlgoLabs', 'instagram': 'https://instagram.com/amlgolabs', 'linkedin': 'https://linkedin.com/amlgolabs'}, 'content_themes': ['Technology', 'Health', 'Business'], 'pricing_info': {'has_pricing': True, 'pricing_model': 'Unknown', 'price_points': ['$3']}, 'analyzed_at': 1754709178.0404434}\n",
      "campaign_plan =  {'campaign_type': 'Custom', 'objective': '**', 'strategy': '3. Decision-makers responsible for product development, innovation, and strategy.  **Audience Strategy:**', 'timeline': [{'sequence': 1, 'type': 'email', 'trigger_hours': 1, 'trigger_description': 'Send email 1 after 1 hours'}, {'sequence': 2, 'type': 'email', 'trigger_hours': 24, 'trigger_description': 'Send email 2 after 24 hours'}, {'sequence': 1, 'type': 'sms', 'trigger_hours': 48, 'trigger_description': 'Send SMS 1 after 48 hours'}, {'sequence': 3, 'type': 'email', 'trigger_hours': 72, 'trigger_description': 'Send email 3 after 72 hours'}], 'email_sequence': [{'email_number': 1, 'purpose': 'Gentle reminder', 'focus': 'Complete your purchase', 'key_message': 'Email 1: Complete your purchase'}, {'email_number': 2, 'purpose': 'Value reinforcement', 'focus': 'Product benefits', 'key_message': 'Email 2: Product benefits'}, {'email_number': 3, 'purpose': 'Urgency creation', 'focus': 'Limited time offer', 'key_message': 'Email 3: Limited time offer'}], 'sms_sequence': [{'sms_number': 1, 'purpose': 'Urgent reminder', 'focus': 'Quick action needed', 'key_message': 'SMS 1: Quick action needed'}, {'sms_number': 2, 'purpose': 'Special offer', 'focus': 'Exclusive mobile discount', 'key_message': 'SMS 2: Exclusive mobile discount'}], 'triggers': {'start_trigger': 'Custom trigger defined by user', 'conditions': ['Custom conditions apply'], 'exclusions': ['User has opted out of marketing emails', 'User has hard bounced email address', 'User is in suppression list', 'User has completed target action in last 24 hours']}, 'success_metrics': ['Open rate > 25%', 'Click-through rate > 3%', 'Conversion rate > 2%', 'Revenue per email > $1', 'Unsubscribe rate < 0.5%'], 'personalization': {'name_personalization': True, 'product_recommendations': True, 'behavioral_triggers': True, 'dynamic_content': ['Product images based on cart items', 'Personalized subject lines', 'Location-based offers', 'Purchase history references'], 'segmentation': ['First-time visitors', 'Returning customers', 'High-value customers', 'Inactive users']}, 'full_plan': '**Campaign Plan: \"Unlock Innovation with Amlgolabs\"**\\n\\n**Campaign Objectives:**\\n\\n1. Raise awareness about Amlgolabs\\' innovative solutions in product development, predictive analytics, and cloud-native AI model development among Tech entrepreneurs and developers.\\n2. Position Amlgolabs as a trusted authority in the industry, emphasizing its cutting-edge technology and expertise.\\n3. Drive engagement and encourage Tech entrepreneurs and developers to explore Amlgolabs\\' solutions.\\n\\n**Target Audience:**\\n\\n1. Tech entrepreneurs and developers interested in AI, machine learning, and data analytics.\\n2. Professionals working in industries such as fintech, healthcare, and e-commerce.\\n3. Decision-makers responsible for product development, innovation, and strategy.\\n\\n**Audience Strategy:**\\n\\n1. Profile: Tech-savvy, innovative, and data-driven professionals seeking to stay ahead of the competition.\\n2. Pain points: Difficulty in developing innovative products, struggling to make data-driven decisions, and limited resources.\\n3. Motivations: Desire to stay ahead of the competition, interest in AI and machine learning, and need for efficient product development.\\n4. Preferred communication channels: Email, SMS, and social media.\\n\\n**Messaging Strategy:**\\n\\n1. Core value proposition: Amlgolabs helps Tech entrepreneurs and developers make data-driven decisions and stay ahead of the competition through its innovative solutions in product development, predictive analytics, and cloud-native AI model development.\\n2. Key messages:\\n\\t* Amlgolabs\\' solutions enable Tech entrepreneurs and developers to unlock new opportunities and stay ahead of the competition.\\n\\t* Amlgolabs\\' expertise in AI and machine learning helps Tech entrepreneurs and developers make better, data-driven decisions.\\n\\t* Amlgolabs\\' cloud-native AI model development enables Tech entrepreneurs and developers to develop innovative products quickly and efficiently.\\n3. Tone and voice: Professional, informative, and engaging.\\n\\n**Channel Strategy:**\\n\\n1. Email marketing:\\n\\t* Email sequence: 3 emails, spaced 3-4 days apart.\\n\\t* Email 1: Introduction to Amlgolabs and its innovative solutions (subject line: \"Unlock Innovation with Amlgolabs\").\\n\\t* Email 2: Highlighting the benefits of Amlgolabs\\' solutions in product development (subject line: \"Transform Your Product Development with Amlgolabs\").\\n\\t* Email 3: Encouraging engagement and encouraging Tech entrepreneurs and developers to explore Amlgolabs\\' solutions (subject line: \"Join the Amlgolabs Community\").\\n2. SMS marketing:\\n\\t* SMS sequence: 2 SMS messages, spaced 2 days apart.\\n\\t* SMS 1: Introduction to Amlgolabs and its innovative solutions (message: \"Unlock innovation with Amlgolabs. Explore our solutions and stay ahead of the competition\").\\n\\t* SMS 2: Encouraging engagement and encouraging Tech entrepreneurs and developers to explore Amlgolabs\\' solutions (message: \"Join the Amlgolabs community and unlock new opportunities\").\\n3. Cross-channel coordination: Email and SMS messages will be designed to work together, with email messages providing more detailed information and SMS messages serving as reminders and encouragement to engage.\\n\\n**Content Strategy:**\\n\\n1. Content themes: AI, machine learning, data analytics, product development, innovation.\\n2. Visual and creative direction: Modern, professional, and engaging visuals, with a focus on highlighting Amlgolabs\\' innovative solutions.\\n3. Asset requirements: Email and SMS templates, images, and videos.\\n4. Brand consistency guidelines: Amlgolabs\\' brand identity, including logos, colors, and typography, will be used consistently across all campaign assets.\\n\\n**Timing and Sequencing:**\\n\\n1. Campaign launch strategy: Launch the campaign on a Monday morning, with the first email sent at 9:00 AM EST.\\n2. Message timing and frequency: Email messages will be sent at 9:00 AM EST, 3 days apart, with the second email sent on Wednesday and the third email sent on Friday. SMS messages will be sent at 10:00 AM EST, 2 days apart, with the first SMS sent on Tuesday and the second SMS sent on Thursday.\\n3. Trigger conditions for each message: Trigger conditions will be set up to ensure that each email and SMS message is sent only once, and that the sequence is triggered by the recipient\\'s engagement or non-engagement.\\n4. Optimal send times and days: Optimal send times are 9:00 AM EST on Monday, Wednesday, and Friday, with optimal days being Monday, Tuesday, Wednesday, and Thursday.\\n\\n**Personalization and Dynamic Content Strategy:**\\n\\n1. Personalization elements: Recipients\\' names, companies, and job titles will be included in email and SMS messages to personalize the content.\\n2. Dynamic content: Dynamic content will be used to tailor the content of email and SMS messages based on the recipient\\'s engagement and interests.\\n\\n**Success Metrics and Optimization Plan:**\\n\\n1. Success metrics: Email open rates, click-through rates, conversion rates, and engagement rates.\\n2. Optimization plan: The campaign will be optimized based on the success metrics, with adjustments made to the messaging, timing, and sequencing to improve performance.\\n\\n**Deliverables:**\\n\\n1. Campaign Overview and Objectives\\n2. Target Audience Profile and Segmentation\\n3. Messaging Strategy and Key Themes\\n4. Email Sequence Plan (subjects, purposes, timing)\\n5. SMS Sequence Plan (purposes, timing)\\n6. Trigger Conditions and Automation Rules\\n7. Personalization and Dynamic Content Strategy\\n8. Success Metrics and Optimization Plan\\n\\nBy following this campaign plan, Amlgolabs can effectively raise awareness and drive engagement among Tech entrepreneurs and developers, positioning itself as a trusted authority in the industry and driving business results.'}\n"
     ]
    }
   ],
   "source": [
    "for i, j in test_state2.items():\n",
    "    print(i,\"= \",j)"
   ]
  },
  {
   "cell_type": "code",
   "execution_count": null,
   "id": "02e574ee",
   "metadata": {},
   "outputs": [],
   "source": []
  }
 ],
 "metadata": {
  "kernelspec": {
   "display_name": "myenv",
   "language": "python",
   "name": "python3"
  },
  "language_info": {
   "codemirror_mode": {
    "name": "ipython",
    "version": 3
   },
   "file_extension": ".py",
   "mimetype": "text/x-python",
   "name": "python",
   "nbconvert_exporter": "python",
   "pygments_lexer": "ipython3",
   "version": "3.11.13"
  }
 },
 "nbformat": 4,
 "nbformat_minor": 5
}
