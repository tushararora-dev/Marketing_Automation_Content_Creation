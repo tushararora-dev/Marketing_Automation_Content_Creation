{
 "cells": [
  {
   "cell_type": "code",
   "execution_count": null,
   "id": "4396f0df",
   "metadata": {},
   "outputs": [],
   "source": [
    "# Cell 1: Setup and imports\n",
    "import sys\n",
    "import os\n",
    "from typing import Dict, List, Any\n",
    "\n",
    "# Add the parent directory of 'tools' to sys.path\n",
    "sys.path.append(os.path.abspath(\"..\"))\n",
    "\n",
    "from tools.browser_utils import analyze_brand_from_url\n",
    "from workflows.marketing_automation.planner import plan_campaign\n",
    "from workflows.marketing_automation.email_generator import generate_emails\n",
    "from workflows.marketing_automation.sms_generator import generate_sms\n",
    "from workflows.marketing_automation.visual_generator import generate_visuals\n",
    "from workflows.marketing_automation.flow_builder import build_campaign_flow"
   ]
  },
  {
   "cell_type": "code",
   "execution_count": null,
   "id": "6797401c",
   "metadata": {},
   "outputs": [],
   "source": [
    "# Cell 2: Initialize test state with sample data\n",
    "test_state = {\n",
    "    \"brand_url\": \"https://amlgolabs.com/\",\n",
    "    \"campaign_type\": \"Custom\",  # or whatever campaign type you want to test\n",
    "    \"custom_prompt\": \"Focus on AI and innovation\",\n",
    "    \"num_emails\": 3,\n",
    "    \"num_sms\": 2,\n",
    "    \"target_audience\": \"Tech entrepreneurs and developers\",\n",
    "    \"tone\": \"Professional\",\n",
    "    \"errors\": []\n",
    "}\n",
    "\n",
    "print(\"Initial test state:\")\n",
    "print(test_state)"
   ]
  },
  {
   "cell_type": "code",
   "execution_count": null,
   "id": "d09f00ba",
   "metadata": {},
   "outputs": [],
   "source": [
    "# Cell 3: Test Node 1 - Brand Analysis\n",
    "def analyze_brand_node(state: Dict[str, Any]) -> Dict[str, Any]:\n",
    "    \"\"\"Node to analyze brand from URL\"\"\"\n",
    "    try:\n",
    "        brand_url = state[\"brand_url\"]\n",
    "        brand_analysis = analyze_brand_from_url(brand_url)\n",
    "        state[\"brand_analysis\"] = brand_analysis\n",
    "        return state\n",
    "    except Exception as e:\n",
    "        state[\"errors\"].append(f\"Brand analysis failed: {str(e)}\")\n",
    "        return state\n",
    "\n",
    "# Test the node\n",
    "test_state = analyze_brand_node(test_state)\n",
    "print(\"\\nAfter brand analysis:\")\n",
    "print(test_state)\n",
    "print(\"Errors:\", test_state[\"errors\"])"
   ]
  },
  {
   "cell_type": "code",
   "execution_count": null,
   "id": "583b3997",
   "metadata": {},
   "outputs": [],
   "source": [
    "# Cell 4: Test Node 2 - Campaign Planning\n",
    "def plan_campaign_node(state: Dict[str, Any]) -> Dict[str, Any]:\n",
    "    \"\"\"Node to plan the marketing campaign\"\"\"\n",
    "    try:\n",
    "        campaign_plan = plan_campaign(\n",
    "            brand_analysis=state[\"brand_analysis\"],\n",
    "            campaign_type=state[\"campaign_type\"],\n",
    "            custom_prompt=state.get(\"custom_prompt\", \"\"),\n",
    "            num_emails=state[\"num_emails\"],\n",
    "            num_sms=state[\"num_sms\"],\n",
    "            target_audience=state[\"target_audience\"],\n",
    "            tone=state[\"tone\"]\n",
    "        )\n",
    "        state[\"campaign_plan\"] = campaign_plan\n",
    "        return state\n",
    "    except Exception as e:\n",
    "        state[\"errors\"].append(f\"Campaign planning failed: {str(e)}\")\n",
    "        return state\n",
    "\n",
    "# Test the node\n",
    "test_state2 = plan_campaign_node(test_state)\n",
    "print(\"\\nAfter brand analysis:\")\n",
    "print(test_state2['campaign_plan'])\n",
    "print(\"Errors:\", test_state2[\"errors\"])"
   ]
  },
  {
   "cell_type": "code",
   "execution_count": null,
   "id": "87b3160f",
   "metadata": {},
   "outputs": [],
   "source": [
    "for i, j in test_state2.items():\n",
    "    print(i,\"= \",j)"
   ]
  },
  {
   "cell_type": "code",
   "execution_count": null,
   "id": "02e574ee",
   "metadata": {},
   "outputs": [],
   "source": []
  }
 ],
 "metadata": {
  "kernelspec": {
   "display_name": "myenv",
   "language": "python",
   "name": "python3"
  },
  "language_info": {
   "codemirror_mode": {
    "name": "ipython",
    "version": 3
   },
   "file_extension": ".py",
   "mimetype": "text/x-python",
   "name": "python",
   "nbconvert_exporter": "python",
   "pygments_lexer": "ipython3",
   "version": "3.11.13"
  }
 },
 "nbformat": 4,
 "nbformat_minor": 5
}
