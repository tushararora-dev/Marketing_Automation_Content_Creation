{
 "cells": [
  {
   "cell_type": "code",
   "execution_count": null,
   "id": "1b0153e2",
   "metadata": {},
   "outputs": [],
   "source": [
    "# Cell 1: Setup and imports\n",
    "import sys\n",
    "import os\n",
    "from typing import Dict, List, Any\n",
    "from datetime import datetime\n",
    "\n",
    "# Add the parent directory to sys.path if needed\n",
    "sys.path.append(os.path.abspath(\"..\"))\n",
    "\n",
    "# Import the workflow functions\n",
    "from tools.image_gen import generate_image"
   ]
  },
  {
   "cell_type": "code",
   "execution_count": null,
   "id": "8b65b55f",
   "metadata": {},
   "outputs": [],
   "source": [
    "def generate_timestamp() -> str:\n",
    "    \"\"\"Generate timestamp for file naming\"\"\"\n",
    "    from datetime import datetime\n",
    "    return datetime.now().strftime(\"%Y%m%d_%H%M%S\")"
   ]
  },
  {
   "cell_type": "code",
   "execution_count": null,
   "id": "303562ea",
   "metadata": {},
   "outputs": [],
   "source": [
    "# --- RUN ---\n",
    "content_strategy = {'brand_colors': '#2c3e50, #3498db, #f8f9fa',\n",
    " 'brand_tone': 'Professional',\n",
    " 'content_pillars': ['quality', 'benefits', 'sustainability'],\n",
    " 'content_types': ['ad_copy',\n",
    "                   'social_captions',\n",
    "                   'static_images',\n",
    "                   'ugc_scripts',\n",
    "                   'email_creative'],\n",
    " 'key_messages': ['Saves you time and effort', 'Premium quality you can trust'],\n",
    " 'product_description': 'Premium organic skincare serum with natural '\n",
    "                        'ingredients that helps improve skin texture and '\n",
    "                        'reduce signs of aging. Perfect for busy professionals '\n",
    "                        'who want quality skincare.',\n",
    " 'target_audience': 'Busy professionals aged 25-45 who value quality and '\n",
    "                    'natural products'}"
   ]
  },
  {
   "cell_type": "code",
   "execution_count": null,
   "id": "857c8c4d",
   "metadata": {},
   "outputs": [],
   "source": [
    "def generate_email_header(content_strategy: Dict[str, Any], brand_colors: str) -> Dict[str, Any]:\n",
    "    \"\"\"Generate email header image\"\"\"\n",
    "    \n",
    "    header_prompt = f\"\"\"\n",
    "    Create a professional email header image.\n",
    "    Brand colors: {brand_colors}\n",
    "    Product/Service: {content_strategy.get('product_description', 'product')}\n",
    "    Style: Clean, professional, email-optimized\n",
    "    Dimensions: 600x200 pixels\n",
    "    Include: Brand elements, product hint, email-friendly design\n",
    "    Background: Brand colors or clean gradient\n",
    "    \"\"\"\n",
    "    \n",
    "    try:\n",
    "        header_result = generate_image(\n",
    "            prompt=header_prompt,\n",
    "            style=\"email header, professional\",\n",
    "            dimensions=\"600x200\"\n",
    "        )\n",
    "        \n",
    "        return {\n",
    "            \"type\": \"email_header\",\n",
    "            \"description\": \"Professional email header with brand elements\",\n",
    "            \"image_obj\": header_result.get(\"image_obj\"),\n",
    "            \"dimensions\": \"600x200\",\n",
    "            \"file_name\": f\"email_header_{generate_timestamp()}.png\",\n",
    "            \"usage\": \"Email campaigns, newsletters\"\n",
    "        }\n",
    "    except Exception as e:\n",
    "        return {\n",
    "            \"type\": \"email_header\",\n",
    "            \"description\": \"Professional email header with brand elements\",\n",
    "            \"error\": str(e),\n",
    "            \"dimensions\": \"600x200\"\n",
    "        }\n"
   ]
  },
  {
   "cell_type": "code",
   "execution_count": null,
   "id": "0185b789",
   "metadata": {},
   "outputs": [],
   "source": [
    "img = generate_email_header(content_strategy=content_strategy, brand_colors=content_strategy['brand_colors'])\n",
    "print(img)"
   ]
  },
  {
   "cell_type": "code",
   "execution_count": null,
   "id": "cdbba940",
   "metadata": {},
   "outputs": [],
   "source": []
  }
 ],
 "metadata": {
  "kernelspec": {
   "display_name": "myenv",
   "language": "python",
   "name": "python3"
  },
  "language_info": {
   "codemirror_mode": {
    "name": "ipython",
    "version": 3
   },
   "file_extension": ".py",
   "mimetype": "text/x-python",
   "name": "python",
   "nbconvert_exporter": "python",
   "pygments_lexer": "ipython3",
   "version": "3.11.13"
  }
 },
 "nbformat": 4,
 "nbformat_minor": 5
}
