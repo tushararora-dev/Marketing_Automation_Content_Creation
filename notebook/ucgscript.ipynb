{
 "cells": [
  {
   "cell_type": "code",
   "execution_count": 6,
   "id": "1ef03112",
   "metadata": {},
   "outputs": [],
   "source": [
    "# Cell 1: Setup and imports\n",
    "import sys\n",
    "import os\n",
    "from typing import Dict, List, Any\n",
    "from datetime import datetime\n",
    "\n",
    "# Add the parent directory to sys.path if needed\n",
    "sys.path.append(os.path.abspath(\"..\"))\n",
    "\n",
    "from workflows.content_generation.ugc_script_gen import generate_ugc_scripts, generate_single_ugc_script, create_ugc_script_prompt, get_ugc_type_requirements, parse_ugc_script_response\n"
   ]
  },
  {
   "cell_type": "code",
   "execution_count": 8,
   "id": "dde8b9f7",
   "metadata": {},
   "outputs": [
    {
     "name": "stdout",
     "output_type": "stream",
     "text": [
      "\n",
      "    Create a UGC (User Generated Content) video script for testimonial.\n",
      "    \n",
      "    Product/Service: We’re launching a new matcha drink\n",
      "    Target Audience: Gen Z\n",
      "    Brand Tone: Professional\n",
      "    Script Type: testimonial\n",
      "    Duration: 30 seconds\n",
      "    Purpose: Build trust and social proof\n",
      "    Content Pillars: quality, benefits, sustainability\n",
      "    Key Messages: Saves you time and effort, Premium quality you can trust\n",
      "    \n",
      "    Script Requirements:\n",
      "    1. Authentic, conversational tone (not overly promotional)\n",
      "    2. Natural speech patterns and realistic dialogue\n",
      "    3. Clear structure with hook, content, and call-to-action\n",
      "    4. Specific visual directions and actions\n",
      "    5. Timing cues for pacing\n",
      "    6. Platform optimization (TikTok/Instagram style)\n",
      "    7. Relatable scenarios for target audience\n",
      "    8. Natural product integration\n",
      "    \n",
      "    Format the script with:\n",
      "    - Timeline/timing cues\n",
      "    - Spoken dialogue/narration\n",
      "    - Visual directions\n",
      "    - Props/setup requirements\n",
      "    - Editing notes\n",
      "    \n",
      "\n",
      "Specific Requirements for testimonial:\n",
      "\n",
      "        - Start with personal story/problem\n",
      "        - Show genuine emotion and enthusiasm\n",
      "        - Mention specific benefits experienced\n",
      "        - Include before/after if applicable\n",
      "        - Natural, unrehearsed feeling\n",
      "        - End with strong recommendation\n",
      "        - Use real-person language, not marketing speak\n",
      "        \n"
     ]
    }
   ],
   "source": [
    "content_strategy = {\n",
    "    'product_description': 'We’re launching a new matcha drink',\n",
    "    'target_audience': 'Gen Z',\n",
    "    'content_types': ['ad_copy', 'social_captions', 'static_images', 'ugc_scripts', 'email_creative'],\n",
    "    'brand_tone': 'Professional',\n",
    "    'brand_colors': '#2c3e50, #3498db, #f8f9fa',\n",
    "    'errors': [],\n",
    "    'content_pillars': ['quality', 'benefits', 'sustainability'],\n",
    "    'key_messages': ['Saves you time and effort', 'Premium quality you can trust']\n",
    "}\n",
    "\n",
    "prompt = create_ugc_script_prompt(\n",
    "    content_strategy=content_strategy,\n",
    "    target_audience=content_strategy['target_audience'],\n",
    "    brand_tone=content_strategy['brand_tone'],\n",
    "    script_type=\"testimonial\",\n",
    "    duration=\"30 seconds\",\n",
    "    purpose=\"Build trust and social proof\"\n",
    ")\n",
    "\n",
    "print(prompt)"
   ]
  },
  {
   "cell_type": "code",
   "execution_count": 9,
   "id": "920b3c73",
   "metadata": {},
   "outputs": [],
   "source": [
    "from tools.llm_manager import get_llm_response\n",
    "\n",
    "# Get script from LLM\n",
    "script_response = get_llm_response(\n",
    "    prompt=prompt,\n",
    "    system_message=\"You are an expert UGC content creator who specializes in authentic, engaging video scripts that feel natural and convert viewers into customers.\"\n",
    ")"
   ]
  },
  {
   "cell_type": "code",
   "execution_count": 10,
   "id": "7e5adbf7",
   "metadata": {},
   "outputs": [
    {
     "name": "stdout",
     "output_type": "stream",
     "text": [
      "Script: \"My Matcha Game-Changer\"\n",
      "\n",
      "Timeline: 0:00 - 0:30\n",
      "\n",
      "**Hook** (0:00 - 0:05)\n",
      "\n",
      "(Upbeat background music starts playing. The camera shows a close-up of a young adult, let's call her Emily, holding a matcha drink with a warm smile.)\n",
      "\n",
      "Emily: \"Hey friends, I'm Emily, and I'm obsessed with matcha. I know what you're thinking... 'Matcha is just a fad.' But trust me, once you try this new matcha drink, you'll be hooked!\"\n",
      "\n",
      "**Content** (0:06 - 0:20)\n",
      "\n",
      "(Cut to Emily in her daily routine, showing her busy schedule and lack of time for cooking or meal prep.)\n",
      "\n",
      "Emily: \"As a busy college student, I barely have time to cook or meal prep. I used to rely on instant noodles and energy drinks to get me through the day. But, I realized those habits were taking a toll on my health and energy levels.\"\n",
      "\n",
      "(Cut to Emily holding the matcha drink and taking a sip.)\n",
      "\n",
      "Emily: \"That's when I discovered this new matcha drink. It's premium, sustainable, and actually tastes amazing! The best part? It's so easy to make and takes zero effort. Just add hot water and voilà!\"\n",
      "\n",
      "(Cut to a before-and-after comparison: Emily's old energy drink habit vs. her new matcha drink habit.)\n",
      "\n",
      "Emily: \"Since switching to matcha, I've noticed a significant boost in energy and focus. No more crashes or jitters! And, I feel great about what I'm putting in my body.\"\n",
      "\n",
      "**Call-to-Action** (0:21 - 0:25)\n",
      "\n",
      "(Cut back to Emily holding the matcha drink.)\n",
      "\n",
      "Emily: \"If you're as obsessed with matcha as I am, you need to try this new drink. It's a game-changer. Trust me, your taste buds and body will thank you.\"\n",
      "\n",
      "**Visual Directions**\n",
      "\n",
      "* Emily holds the matcha drink in the beginning and end of the video.\n",
      "* Close-ups of the matcha drink and Emily's face are used to emphasize her enthusiasm and genuine emotion.\n",
      "* The before-and-after comparison is shown in a split-screen format.\n",
      "* The camera pans across Emily's daily routine to show her busy schedule.\n",
      "\n",
      "**Props/Setup**\n",
      "\n",
      "* Emily wears casual, relatable clothing and has a relaxed hairstyle.\n",
      "* The matcha drink is prominently displayed.\n",
      "* A small desk or table is used as a setting for Emily's daily routine.\n",
      "\n",
      "**Editing Notes**\n",
      "\n",
      "* Fast-paced cuts are used to convey Emily's energy and enthusiasm.\n",
      "* The video ends with a strong call-to-action and a shot of the matcha drink.\n",
      "* The background music is upbeat and energetic to match Emily's tone.\n",
      "\n",
      "**Platform Optimization**\n",
      "\n",
      "* The script is optimized for TikTok and Instagram, with a focus on short, engaging content and a conversational tone.\n",
      "* The script includes specific visual directions and props to create a natural, relatable setting.\n",
      "\n",
      "By following this script, we can create a believable, engaging testimonial that showcases the benefits and quality of our new matcha drink, while also building trust and social proof with our target audience.\n"
     ]
    }
   ],
   "source": [
    "print(script_response)"
   ]
  },
  {
   "cell_type": "code",
   "execution_count": 11,
   "id": "dd74a0c4",
   "metadata": {},
   "outputs": [
    {
     "name": "stdout",
     "output_type": "stream",
     "text": [
      "{'type': 'testimonial', 'title': 'My Honest Review', 'duration': '30 seconds', 'purpose': 'Build trust and social proof', 'script': 'Script: \"My Matcha Game-Changer\"\\n\\nTimeline: 0:00 - 0:30\\n\\n**Hook** (0:00 - 0:05)\\n\\n(Upbeat background music starts playing. The camera shows a close-up of a young adult, let\\'s call her Emily, holding a matcha drink with a warm smile.)\\n\\nEmily: \"Hey friends, I\\'m Emily, and I\\'m obsessed with matcha. I know what you\\'re thinking... \\'Matcha is just a fad.\\' But trust me, once you try this new matcha drink, you\\'ll be hooked!\"\\n\\n**Content** (0:06 - 0:20)\\n\\n(Cut to Emily in her daily routine, showing her busy schedule and lack of time for cooking or meal prep.)\\n\\nEmily: \"As a busy college student, I barely have time to cook or meal prep. I used to rely on instant noodles and energy drinks to get me through the day. But, I realized those habits were taking a toll on my health and energy levels.\"\\n\\n(Cut to Emily holding the matcha drink and taking a sip.)\\n\\nEmily: \"That\\'s when I discovered this new matcha drink. It\\'s premium, sustainable, and actually tastes amazing! The best part? It\\'s so easy to make and takes zero effort. Just add hot water and voilà!\"\\n\\n(Cut to a before-and-after comparison: Emily\\'s old energy drink habit vs. her new matcha drink habit.)\\n\\nEmily: \"Since switching to matcha, I\\'ve noticed a significant boost in energy and focus. No more crashes or jitters! And, I feel great about what I\\'m putting in my body.\"\\n\\n**Call-to-Action** (0:21 - 0:25)\\n\\n(Cut back to Emily holding the matcha drink.)\\n\\nEmily: \"If you\\'re as obsessed with matcha as I am, you need to try this new drink. It\\'s a game-changer. Trust me, your taste buds and body will thank you.\"\\n\\n**Visual Directions**\\n\\n* Emily holds the matcha drink in the beginning and end of the video.\\n* Close-ups of the matcha drink and Emily\\'s face are used to emphasize her enthusiasm and genuine emotion.\\n* The before-and-after comparison is shown in a split-screen format.\\n* The camera pans across Emily\\'s daily routine to show her busy schedule.\\n\\n**Props/Setup**\\n\\n* Emily wears casual, relatable clothing and has a relaxed hairstyle.\\n* The matcha drink is prominently displayed.\\n* A small desk or table is used as a setting for Emily\\'s daily routine.\\n\\n**Editing Notes**\\n\\n* Fast-paced cuts are used to convey Emily\\'s energy and enthusiasm.\\n* The video ends with a strong call-to-action and a shot of the matcha drink.\\n* The background music is upbeat and energetic to match Emily\\'s tone.\\n\\n**Platform Optimization**\\n\\n* The script is optimized for TikTok and Instagram, with a focus on short, engaging content and a conversational tone.\\n* The script includes specific visual directions and props to create a natural, relatable setting.\\n\\nBy following this script, we can create a believable, engaging testimonial that showcases the benefits and quality of our new matcha drink, while also building trust and social proof with our target audience.', 'dialogue': [{'timing': 'TBD', 'text': 'Script: \"My Matcha Game-Changer\"\\n\\nTimeline: 0:00 - 0:30\\n\\n**Hook** (0:00 - 0:05)\\n\\n(Upbeat background music starts playing', 'tone': 'natural, conversational'}, {'timing': 'TBD', 'text': \"The camera shows a close-up of a young adult, let's call her Emily, holding a matcha drink with a warm smile\", 'tone': 'natural, conversational'}, {'timing': 'TBD', 'text': ')\\n\\nEmily: \"Hey friends, I\\'m Emily, and I\\'m obsessed with matcha', 'tone': 'natural, conversational'}, {'timing': 'TBD', 'text': \"I know what you're thinking\", 'tone': 'natural, conversational'}, {'timing': 'TBD', 'text': \"'Matcha is just a fad\", 'tone': 'natural, conversational'}], 'visual_directions': [\"(Upbeat background music starts playing. The camera shows a close-up of a young adult, let's call her Emily, holding a matcha drink with a warm smile.)\", '(Cut to Emily in her daily routine, showing her busy schedule and lack of time for cooking or meal prep.)', '(Cut to Emily holding the matcha drink and taking a sip.)', \"(Cut to a before-and-after comparison: Emily's old energy drink habit vs. her new matcha drink habit.)\", \"* Close-ups of the matcha drink and Emily's face are used to emphasize her enthusiasm and genuine emotion.\", '* The before-and-after comparison is shown in a split-screen format.', \"* The camera pans across Emily's daily routine to show her busy schedule.\", '* The matcha drink is prominently displayed.', '* The video ends with a strong call-to-action and a shot of the matcha drink.', '* The script is optimized for TikTok and Instagram, with a focus on short, engaging content and a conversational tone.', 'By following this script, we can create a believable, engaging testimonial that showcases the benefits and quality of our new matcha drink, while also building trust and social proof with our target audience.'], 'timing_cues': [{'timing': '0:00', 'action': 'Timeline: 0:00 - 0:30', 'importance': 'critical'}, {'timing': '0:00', 'action': '**Hook** (0:00 - 0:05)', 'importance': 'critical'}, {'timing': 'TBD', 'action': \"(Upbeat background music starts playing. The camera shows a close-up of a young adult, let's call her Emily, holding a matcha drink with a warm smile.)\", 'importance': 'critical'}, {'timing': 'TBD', 'action': 'Emily: \"Hey friends, I\\'m Emily, and I\\'m obsessed with matcha. I know what you\\'re thinking... \\'Matcha is just a fad.\\' But trust me, once you try this new matcha drink, you\\'ll be hooked!\"', 'importance': 'critical'}, {'timing': '0:06', 'action': '**Content** (0:06 - 0:20)', 'importance': 'critical'}, {'timing': '0:21', 'action': '**Call-to-Action** (0:21 - 0:25)', 'importance': 'critical'}, {'timing': 'TBD', 'action': '* Emily holds the matcha drink in the beginning and end of the video.', 'importance': 'critical'}, {'timing': 'TBD', 'action': '* The video ends with a strong call-to-action and a shot of the matcha drink.', 'importance': 'critical'}], 'props_needed': ['Phone or camera for recording', 'The actual product', 'Clean background', 'Good lighting setup'], 'setup_requirements': [\"(Upbeat background music starts playing. The camera shows a close-up of a young adult, let's call her Emily, holding a matcha drink with a warm smile.)\", \"(Cut to a before-and-after comparison: Emily's old energy drink habit vs. her new matcha drink habit.)\", '* The before-and-after comparison is shown in a split-screen format.', '**Props/Setup**', \"* The background music is upbeat and energetic to match Emily's tone.\", 'Ensure good natural lighting or ring light', 'Choose clean, uncluttered background', 'Test audio quality and minimize background noise', 'Have product easily accessible and ready to use', 'Charge phone/camera and clear storage space'], 'editing_notes': [\"(Upbeat background music starts playing. The camera shows a close-up of a young adult, let's call her Emily, holding a matcha drink with a warm smile.)\", '(Cut to Emily in her daily routine, showing her busy schedule and lack of time for cooking or meal prep.)', '(Cut to Emily holding the matcha drink and taking a sip.)', \"(Cut to a before-and-after comparison: Emily's old energy drink habit vs. her new matcha drink habit.)\", '(Cut back to Emily holding the matcha drink.)', '**Editing Notes**', \"* Fast-paced cuts are used to convey Emily's energy and enthusiasm.\", \"* The background music is upbeat and energetic to match Emily's tone.\", 'Keep cuts snappy and engaging', 'Add captions for accessibility', 'Include trending music if appropriate', 'Maintain authentic, unpolished feel', 'Add subtle text overlays for key points'], 'platform_versions': {'tiktok': {'max_duration': '30 seconds', 'style': 'Fast-paced, trendy, music-driven', 'captions': 'Essential for engagement', 'hashtags': 'Use trending + niche hashtags', 'format': 'Vertical 9:16', 'hook_timing': 'First 1-2 seconds critical'}, 'instagram_reels': {'max_duration': '30 seconds', 'style': 'Polished but authentic', 'captions': 'Stylized text overlays', 'hashtags': 'Mix of popular and niche', 'format': 'Vertical 9:16', 'hook_timing': 'First 3 seconds'}, 'youtube_shorts': {'max_duration': '60 seconds', 'style': 'More detailed, educational angle', 'captions': 'Clear, easy to read', 'description': 'Detailed with keywords', 'format': 'Vertical 9:16', 'seo': 'Optimize title and description'}, 'facebook': {'max_duration': '90 seconds', 'style': 'Community-focused, story-driven', 'captions': 'Auto-play friendly', 'format': 'Square 1:1 or vertical', 'engagement': 'Encourage comments and shares'}}, 'authenticity_tips': ['Use natural speech patterns and filler words occasionally', 'Show genuine reactions and emotions', 'Include minor imperfections or adjustments', 'Speak as you would to a friend', 'Share personal context or story', 'Share specific details about your experience', \"Mention how long you've been using the product\", 'Include what you were skeptical about initially', 'Be honest about any minor drawbacks'], 'full_script': 'Script: \"My Matcha Game-Changer\"\\n\\nTimeline: 0:00 - 0:30\\n\\n**Hook** (0:00 - 0:05)\\n\\n(Upbeat background music starts playing. The camera shows a close-up of a young adult, let\\'s call her Emily, holding a matcha drink with a warm smile.)\\n\\nEmily: \"Hey friends, I\\'m Emily, and I\\'m obsessed with matcha. I know what you\\'re thinking... \\'Matcha is just a fad.\\' But trust me, once you try this new matcha drink, you\\'ll be hooked!\"\\n\\n**Content** (0:06 - 0:20)\\n\\n(Cut to Emily in her daily routine, showing her busy schedule and lack of time for cooking or meal prep.)\\n\\nEmily: \"As a busy college student, I barely have time to cook or meal prep. I used to rely on instant noodles and energy drinks to get me through the day. But, I realized those habits were taking a toll on my health and energy levels.\"\\n\\n(Cut to Emily holding the matcha drink and taking a sip.)\\n\\nEmily: \"That\\'s when I discovered this new matcha drink. It\\'s premium, sustainable, and actually tastes amazing! The best part? It\\'s so easy to make and takes zero effort. Just add hot water and voilà!\"\\n\\n(Cut to a before-and-after comparison: Emily\\'s old energy drink habit vs. her new matcha drink habit.)\\n\\nEmily: \"Since switching to matcha, I\\'ve noticed a significant boost in energy and focus. No more crashes or jitters! And, I feel great about what I\\'m putting in my body.\"\\n\\n**Call-to-Action** (0:21 - 0:25)\\n\\n(Cut back to Emily holding the matcha drink.)\\n\\nEmily: \"If you\\'re as obsessed with matcha as I am, you need to try this new drink. It\\'s a game-changer. Trust me, your taste buds and body will thank you.\"\\n\\n**Visual Directions**\\n\\n* Emily holds the matcha drink in the beginning and end of the video.\\n* Close-ups of the matcha drink and Emily\\'s face are used to emphasize her enthusiasm and genuine emotion.\\n* The before-and-after comparison is shown in a split-screen format.\\n* The camera pans across Emily\\'s daily routine to show her busy schedule.\\n\\n**Props/Setup**\\n\\n* Emily wears casual, relatable clothing and has a relaxed hairstyle.\\n* The matcha drink is prominently displayed.\\n* A small desk or table is used as a setting for Emily\\'s daily routine.\\n\\n**Editing Notes**\\n\\n* Fast-paced cuts are used to convey Emily\\'s energy and enthusiasm.\\n* The video ends with a strong call-to-action and a shot of the matcha drink.\\n* The background music is upbeat and energetic to match Emily\\'s tone.\\n\\n**Platform Optimization**\\n\\n* The script is optimized for TikTok and Instagram, with a focus on short, engaging content and a conversational tone.\\n* The script includes specific visual directions and props to create a natural, relatable setting.\\n\\nBy following this script, we can create a believable, engaging testimonial that showcases the benefits and quality of our new matcha drink, while also building trust and social proof with our target audience.'}\n"
     ]
    }
   ],
   "source": [
    "\n",
    "\n",
    "\n",
    "# Parse and structure the script\n",
    "ugc_script = parse_ugc_script_response(script_response, script_type=\"testimonial\",\n",
    "    duration=\"30 seconds\",\n",
    "    purpose=\"Build trust and social proof\")\n",
    "\n",
    "print(ugc_script)"
   ]
  },
  {
   "cell_type": "code",
   "execution_count": null,
   "id": "a33ca820",
   "metadata": {},
   "outputs": [],
   "source": []
  },
  {
   "cell_type": "code",
   "execution_count": null,
   "id": "bba24663",
   "metadata": {},
   "outputs": [],
   "source": []
  }
 ],
 "metadata": {
  "kernelspec": {
   "display_name": "myenv",
   "language": "python",
   "name": "python3"
  },
  "language_info": {
   "codemirror_mode": {
    "name": "ipython",
    "version": 3
   },
   "file_extension": ".py",
   "mimetype": "text/x-python",
   "name": "python",
   "nbconvert_exporter": "python",
   "pygments_lexer": "ipython3",
   "version": "3.11.13"
  }
 },
 "nbformat": 4,
 "nbformat_minor": 5
}
